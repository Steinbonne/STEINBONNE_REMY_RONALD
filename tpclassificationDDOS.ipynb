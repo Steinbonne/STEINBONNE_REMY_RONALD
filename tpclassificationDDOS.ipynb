{
 "cells": [
  {
   "cell_type": "markdown",
   "id": "f1a30bf5-a9e4-4105-99e1-7fb5510abe6a",
   "metadata": {
    "tags": []
   },
   "source": [
    "# Etape 1: Importer les packages"
   ]
  },
  {
   "cell_type": "markdown",
   "id": "bd0b1d65-2e05-4e52-abef-a7a91078de58",
   "metadata": {},
   "source": [
    "## Importation des librairie"
   ]
  },
  {
   "cell_type": "code",
   "execution_count": 1,
   "id": "eda89c64-d975-4f8b-b5c6-3e51ad7b0340",
   "metadata": {
    "tags": []
   },
   "outputs": [],
   "source": [
    "import pandas as pd\n",
    "import numpy as np\n",
    "import seaborn as sns\n",
    "import matplotlib.pyplot as plt\n",
    "from sklearn.model_selection import train_test_split\n",
    "from sklearn.preprocessing import LabelEncoder\n",
    "\n",
    "import warnings\n",
    "\n",
    "warnings.filterwarnings('ignore')"
   ]
  },
  {
   "cell_type": "markdown",
   "id": "89f98dda-5382-46a4-9dba-6542b129cde0",
   "metadata": {
    "tags": []
   },
   "source": [
    "## Importation des modeleaccuracy_score"
   ]
  },
  {
   "cell_type": "code",
   "execution_count": 2,
   "id": "434e92a5-898b-4fc0-95c3-9445ca3da343",
   "metadata": {
    "tags": []
   },
   "outputs": [],
   "source": [
    "from sklearn.linear_model import LogisticRegression\n",
    "from sklearn.tree import DecisionTreeClassifier\n",
    "from sklearn.ensemble import RandomForestClassifier\n",
    "from sklearn.neighbors import KNeighborsClassifier\n",
    "from sklearn.svm import SVC"
   ]
  },
  {
   "cell_type": "markdown",
   "id": "e15660bc-e2db-480d-8fc0-c668a9f20a47",
   "metadata": {},
   "source": [
    "## Importation des metriques"
   ]
  },
  {
   "cell_type": "code",
   "execution_count": 3,
   "id": "94b84728-2f52-4c36-afca-b42b42e67b47",
   "metadata": {
    "tags": []
   },
   "outputs": [],
   "source": [
    "from sklearn.metrics import confusion_matrix\n",
    "from sklearn.metrics import ConfusionMatrixDisplay\n",
    "from sklearn.metrics import accuracy_score\n",
    "from sklearn.metrics import precision_score\n",
    "from sklearn.metrics import recall_score\n",
    "from sklearn.metrics import f1_score\n",
    "from sklearn.metrics import mean_squared_error"
   ]
  },
  {
   "cell_type": "markdown",
   "id": "62eb7fa1-b39a-4227-9d8b-a5381818947c",
   "metadata": {},
   "source": [
    "# Etape 2: Charger les donnees"
   ]
  },
  {
   "cell_type": "code",
   "execution_count": 4,
   "id": "77564e67-26b3-49aa-b59e-6a23f2c1f893",
   "metadata": {
    "tags": []
   },
   "outputs": [
    {
     "data": {
      "text/html": [
       "<div>\n",
       "<style scoped>\n",
       "    .dataframe tbody tr th:only-of-type {\n",
       "        vertical-align: middle;\n",
       "    }\n",
       "\n",
       "    .dataframe tbody tr th {\n",
       "        vertical-align: top;\n",
       "    }\n",
       "\n",
       "    .dataframe thead th {\n",
       "        text-align: right;\n",
       "    }\n",
       "</style>\n",
       "<table border=\"1\" class=\"dataframe\">\n",
       "  <thead>\n",
       "    <tr style=\"text-align: right;\">\n",
       "      <th></th>\n",
       "      <th>dt</th>\n",
       "      <th>switch</th>\n",
       "      <th>src</th>\n",
       "      <th>dst</th>\n",
       "      <th>pktcount</th>\n",
       "      <th>bytecount</th>\n",
       "      <th>dur</th>\n",
       "      <th>dur_nsec</th>\n",
       "      <th>tot_dur</th>\n",
       "      <th>flows</th>\n",
       "      <th>...</th>\n",
       "      <th>pktrate</th>\n",
       "      <th>Pairflow</th>\n",
       "      <th>Protocol</th>\n",
       "      <th>port_no</th>\n",
       "      <th>tx_bytes</th>\n",
       "      <th>rx_bytes</th>\n",
       "      <th>tx_kbps</th>\n",
       "      <th>rx_kbps</th>\n",
       "      <th>tot_kbps</th>\n",
       "      <th>label</th>\n",
       "    </tr>\n",
       "  </thead>\n",
       "  <tbody>\n",
       "    <tr>\n",
       "      <th>0</th>\n",
       "      <td>11425</td>\n",
       "      <td>1</td>\n",
       "      <td>10.0.0.1</td>\n",
       "      <td>10.0.0.8</td>\n",
       "      <td>45304</td>\n",
       "      <td>48294064</td>\n",
       "      <td>100</td>\n",
       "      <td>716000000</td>\n",
       "      <td>1.010000e+11</td>\n",
       "      <td>3</td>\n",
       "      <td>...</td>\n",
       "      <td>451</td>\n",
       "      <td>0</td>\n",
       "      <td>UDP</td>\n",
       "      <td>3</td>\n",
       "      <td>143928631</td>\n",
       "      <td>3917</td>\n",
       "      <td>0</td>\n",
       "      <td>0.0</td>\n",
       "      <td>0.0</td>\n",
       "      <td>0</td>\n",
       "    </tr>\n",
       "    <tr>\n",
       "      <th>1</th>\n",
       "      <td>11605</td>\n",
       "      <td>1</td>\n",
       "      <td>10.0.0.1</td>\n",
       "      <td>10.0.0.8</td>\n",
       "      <td>126395</td>\n",
       "      <td>134737070</td>\n",
       "      <td>280</td>\n",
       "      <td>734000000</td>\n",
       "      <td>2.810000e+11</td>\n",
       "      <td>2</td>\n",
       "      <td>...</td>\n",
       "      <td>451</td>\n",
       "      <td>0</td>\n",
       "      <td>UDP</td>\n",
       "      <td>4</td>\n",
       "      <td>3842</td>\n",
       "      <td>3520</td>\n",
       "      <td>0</td>\n",
       "      <td>0.0</td>\n",
       "      <td>0.0</td>\n",
       "      <td>0</td>\n",
       "    </tr>\n",
       "    <tr>\n",
       "      <th>2</th>\n",
       "      <td>11425</td>\n",
       "      <td>1</td>\n",
       "      <td>10.0.0.2</td>\n",
       "      <td>10.0.0.8</td>\n",
       "      <td>90333</td>\n",
       "      <td>96294978</td>\n",
       "      <td>200</td>\n",
       "      <td>744000000</td>\n",
       "      <td>2.010000e+11</td>\n",
       "      <td>3</td>\n",
       "      <td>...</td>\n",
       "      <td>451</td>\n",
       "      <td>0</td>\n",
       "      <td>UDP</td>\n",
       "      <td>1</td>\n",
       "      <td>3795</td>\n",
       "      <td>1242</td>\n",
       "      <td>0</td>\n",
       "      <td>0.0</td>\n",
       "      <td>0.0</td>\n",
       "      <td>0</td>\n",
       "    </tr>\n",
       "    <tr>\n",
       "      <th>3</th>\n",
       "      <td>11425</td>\n",
       "      <td>1</td>\n",
       "      <td>10.0.0.2</td>\n",
       "      <td>10.0.0.8</td>\n",
       "      <td>90333</td>\n",
       "      <td>96294978</td>\n",
       "      <td>200</td>\n",
       "      <td>744000000</td>\n",
       "      <td>2.010000e+11</td>\n",
       "      <td>3</td>\n",
       "      <td>...</td>\n",
       "      <td>451</td>\n",
       "      <td>0</td>\n",
       "      <td>UDP</td>\n",
       "      <td>2</td>\n",
       "      <td>3688</td>\n",
       "      <td>1492</td>\n",
       "      <td>0</td>\n",
       "      <td>0.0</td>\n",
       "      <td>0.0</td>\n",
       "      <td>0</td>\n",
       "    </tr>\n",
       "    <tr>\n",
       "      <th>4</th>\n",
       "      <td>11425</td>\n",
       "      <td>1</td>\n",
       "      <td>10.0.0.2</td>\n",
       "      <td>10.0.0.8</td>\n",
       "      <td>90333</td>\n",
       "      <td>96294978</td>\n",
       "      <td>200</td>\n",
       "      <td>744000000</td>\n",
       "      <td>2.010000e+11</td>\n",
       "      <td>3</td>\n",
       "      <td>...</td>\n",
       "      <td>451</td>\n",
       "      <td>0</td>\n",
       "      <td>UDP</td>\n",
       "      <td>3</td>\n",
       "      <td>3413</td>\n",
       "      <td>3665</td>\n",
       "      <td>0</td>\n",
       "      <td>0.0</td>\n",
       "      <td>0.0</td>\n",
       "      <td>0</td>\n",
       "    </tr>\n",
       "  </tbody>\n",
       "</table>\n",
       "<p>5 rows × 23 columns</p>\n",
       "</div>"
      ],
      "text/plain": [
       "      dt  switch       src       dst  pktcount  bytecount  dur   dur_nsec  \\\n",
       "0  11425       1  10.0.0.1  10.0.0.8     45304   48294064  100  716000000   \n",
       "1  11605       1  10.0.0.1  10.0.0.8    126395  134737070  280  734000000   \n",
       "2  11425       1  10.0.0.2  10.0.0.8     90333   96294978  200  744000000   \n",
       "3  11425       1  10.0.0.2  10.0.0.8     90333   96294978  200  744000000   \n",
       "4  11425       1  10.0.0.2  10.0.0.8     90333   96294978  200  744000000   \n",
       "\n",
       "        tot_dur  flows  ...  pktrate  Pairflow  Protocol  port_no   tx_bytes  \\\n",
       "0  1.010000e+11      3  ...      451         0       UDP        3  143928631   \n",
       "1  2.810000e+11      2  ...      451         0       UDP        4       3842   \n",
       "2  2.010000e+11      3  ...      451         0       UDP        1       3795   \n",
       "3  2.010000e+11      3  ...      451         0       UDP        2       3688   \n",
       "4  2.010000e+11      3  ...      451         0       UDP        3       3413   \n",
       "\n",
       "  rx_bytes  tx_kbps  rx_kbps  tot_kbps  label  \n",
       "0     3917        0      0.0       0.0      0  \n",
       "1     3520        0      0.0       0.0      0  \n",
       "2     1242        0      0.0       0.0      0  \n",
       "3     1492        0      0.0       0.0      0  \n",
       "4     3665        0      0.0       0.0      0  \n",
       "\n",
       "[5 rows x 23 columns]"
      ]
     },
     "execution_count": 4,
     "metadata": {},
     "output_type": "execute_result"
    }
   ],
   "source": [
    "data = pd.read_csv('data/DDoS_dataset.csv')\n",
    "data.head()"
   ]
  },
  {
   "cell_type": "markdown",
   "id": "a8e5031c-e92c-48dd-b1aa-43c2b63670de",
   "metadata": {},
   "source": [
    "# Etape 3: Analyse des donnees"
   ]
  },
  {
   "cell_type": "code",
   "execution_count": 5,
   "id": "f30fa9f2-ae89-40c3-91b9-a193fb6d7e0f",
   "metadata": {
    "tags": []
   },
   "outputs": [
    {
     "data": {
      "text/html": [
       "<div>\n",
       "<style scoped>\n",
       "    .dataframe tbody tr th:only-of-type {\n",
       "        vertical-align: middle;\n",
       "    }\n",
       "\n",
       "    .dataframe tbody tr th {\n",
       "        vertical-align: top;\n",
       "    }\n",
       "\n",
       "    .dataframe thead th {\n",
       "        text-align: right;\n",
       "    }\n",
       "</style>\n",
       "<table border=\"1\" class=\"dataframe\">\n",
       "  <thead>\n",
       "    <tr style=\"text-align: right;\">\n",
       "      <th></th>\n",
       "      <th>dt</th>\n",
       "      <th>switch</th>\n",
       "      <th>src</th>\n",
       "      <th>dst</th>\n",
       "      <th>pktcount</th>\n",
       "      <th>bytecount</th>\n",
       "      <th>dur</th>\n",
       "      <th>dur_nsec</th>\n",
       "      <th>tot_dur</th>\n",
       "      <th>flows</th>\n",
       "      <th>...</th>\n",
       "      <th>pktrate</th>\n",
       "      <th>Pairflow</th>\n",
       "      <th>Protocol</th>\n",
       "      <th>port_no</th>\n",
       "      <th>tx_bytes</th>\n",
       "      <th>rx_bytes</th>\n",
       "      <th>tx_kbps</th>\n",
       "      <th>rx_kbps</th>\n",
       "      <th>tot_kbps</th>\n",
       "      <th>label</th>\n",
       "    </tr>\n",
       "  </thead>\n",
       "  <tbody>\n",
       "    <tr>\n",
       "      <th>0</th>\n",
       "      <td>11425</td>\n",
       "      <td>1</td>\n",
       "      <td>10.0.0.1</td>\n",
       "      <td>10.0.0.8</td>\n",
       "      <td>45304</td>\n",
       "      <td>48294064</td>\n",
       "      <td>100</td>\n",
       "      <td>716000000</td>\n",
       "      <td>1.010000e+11</td>\n",
       "      <td>3</td>\n",
       "      <td>...</td>\n",
       "      <td>451</td>\n",
       "      <td>0</td>\n",
       "      <td>UDP</td>\n",
       "      <td>3</td>\n",
       "      <td>143928631</td>\n",
       "      <td>3917</td>\n",
       "      <td>0</td>\n",
       "      <td>0.0</td>\n",
       "      <td>0.0</td>\n",
       "      <td>0</td>\n",
       "    </tr>\n",
       "    <tr>\n",
       "      <th>1</th>\n",
       "      <td>11605</td>\n",
       "      <td>1</td>\n",
       "      <td>10.0.0.1</td>\n",
       "      <td>10.0.0.8</td>\n",
       "      <td>126395</td>\n",
       "      <td>134737070</td>\n",
       "      <td>280</td>\n",
       "      <td>734000000</td>\n",
       "      <td>2.810000e+11</td>\n",
       "      <td>2</td>\n",
       "      <td>...</td>\n",
       "      <td>451</td>\n",
       "      <td>0</td>\n",
       "      <td>UDP</td>\n",
       "      <td>4</td>\n",
       "      <td>3842</td>\n",
       "      <td>3520</td>\n",
       "      <td>0</td>\n",
       "      <td>0.0</td>\n",
       "      <td>0.0</td>\n",
       "      <td>0</td>\n",
       "    </tr>\n",
       "    <tr>\n",
       "      <th>2</th>\n",
       "      <td>11425</td>\n",
       "      <td>1</td>\n",
       "      <td>10.0.0.2</td>\n",
       "      <td>10.0.0.8</td>\n",
       "      <td>90333</td>\n",
       "      <td>96294978</td>\n",
       "      <td>200</td>\n",
       "      <td>744000000</td>\n",
       "      <td>2.010000e+11</td>\n",
       "      <td>3</td>\n",
       "      <td>...</td>\n",
       "      <td>451</td>\n",
       "      <td>0</td>\n",
       "      <td>UDP</td>\n",
       "      <td>1</td>\n",
       "      <td>3795</td>\n",
       "      <td>1242</td>\n",
       "      <td>0</td>\n",
       "      <td>0.0</td>\n",
       "      <td>0.0</td>\n",
       "      <td>0</td>\n",
       "    </tr>\n",
       "    <tr>\n",
       "      <th>3</th>\n",
       "      <td>11425</td>\n",
       "      <td>1</td>\n",
       "      <td>10.0.0.2</td>\n",
       "      <td>10.0.0.8</td>\n",
       "      <td>90333</td>\n",
       "      <td>96294978</td>\n",
       "      <td>200</td>\n",
       "      <td>744000000</td>\n",
       "      <td>2.010000e+11</td>\n",
       "      <td>3</td>\n",
       "      <td>...</td>\n",
       "      <td>451</td>\n",
       "      <td>0</td>\n",
       "      <td>UDP</td>\n",
       "      <td>2</td>\n",
       "      <td>3688</td>\n",
       "      <td>1492</td>\n",
       "      <td>0</td>\n",
       "      <td>0.0</td>\n",
       "      <td>0.0</td>\n",
       "      <td>0</td>\n",
       "    </tr>\n",
       "    <tr>\n",
       "      <th>4</th>\n",
       "      <td>11425</td>\n",
       "      <td>1</td>\n",
       "      <td>10.0.0.2</td>\n",
       "      <td>10.0.0.8</td>\n",
       "      <td>90333</td>\n",
       "      <td>96294978</td>\n",
       "      <td>200</td>\n",
       "      <td>744000000</td>\n",
       "      <td>2.010000e+11</td>\n",
       "      <td>3</td>\n",
       "      <td>...</td>\n",
       "      <td>451</td>\n",
       "      <td>0</td>\n",
       "      <td>UDP</td>\n",
       "      <td>3</td>\n",
       "      <td>3413</td>\n",
       "      <td>3665</td>\n",
       "      <td>0</td>\n",
       "      <td>0.0</td>\n",
       "      <td>0.0</td>\n",
       "      <td>0</td>\n",
       "    </tr>\n",
       "  </tbody>\n",
       "</table>\n",
       "<p>5 rows × 23 columns</p>\n",
       "</div>"
      ],
      "text/plain": [
       "      dt  switch       src       dst  pktcount  bytecount  dur   dur_nsec  \\\n",
       "0  11425       1  10.0.0.1  10.0.0.8     45304   48294064  100  716000000   \n",
       "1  11605       1  10.0.0.1  10.0.0.8    126395  134737070  280  734000000   \n",
       "2  11425       1  10.0.0.2  10.0.0.8     90333   96294978  200  744000000   \n",
       "3  11425       1  10.0.0.2  10.0.0.8     90333   96294978  200  744000000   \n",
       "4  11425       1  10.0.0.2  10.0.0.8     90333   96294978  200  744000000   \n",
       "\n",
       "        tot_dur  flows  ...  pktrate  Pairflow  Protocol  port_no   tx_bytes  \\\n",
       "0  1.010000e+11      3  ...      451         0       UDP        3  143928631   \n",
       "1  2.810000e+11      2  ...      451         0       UDP        4       3842   \n",
       "2  2.010000e+11      3  ...      451         0       UDP        1       3795   \n",
       "3  2.010000e+11      3  ...      451         0       UDP        2       3688   \n",
       "4  2.010000e+11      3  ...      451         0       UDP        3       3413   \n",
       "\n",
       "  rx_bytes  tx_kbps  rx_kbps  tot_kbps  label  \n",
       "0     3917        0      0.0       0.0      0  \n",
       "1     3520        0      0.0       0.0      0  \n",
       "2     1242        0      0.0       0.0      0  \n",
       "3     1492        0      0.0       0.0      0  \n",
       "4     3665        0      0.0       0.0      0  \n",
       "\n",
       "[5 rows x 23 columns]"
      ]
     },
     "execution_count": 5,
     "metadata": {},
     "output_type": "execute_result"
    }
   ],
   "source": [
    "data.head()"
   ]
  },
  {
   "cell_type": "code",
   "execution_count": 6,
   "id": "ddd00a30-a932-44d1-ad5e-463302a3c52c",
   "metadata": {
    "tags": []
   },
   "outputs": [],
   "source": [
    "pd.set_option('display.max_columns', None)"
   ]
  },
  {
   "cell_type": "code",
   "execution_count": 7,
   "id": "bb1a608b-bfee-4bec-9e53-69243ea60dba",
   "metadata": {
    "tags": []
   },
   "outputs": [
    {
     "data": {
      "text/html": [
       "<div>\n",
       "<style scoped>\n",
       "    .dataframe tbody tr th:only-of-type {\n",
       "        vertical-align: middle;\n",
       "    }\n",
       "\n",
       "    .dataframe tbody tr th {\n",
       "        vertical-align: top;\n",
       "    }\n",
       "\n",
       "    .dataframe thead th {\n",
       "        text-align: right;\n",
       "    }\n",
       "</style>\n",
       "<table border=\"1\" class=\"dataframe\">\n",
       "  <thead>\n",
       "    <tr style=\"text-align: right;\">\n",
       "      <th></th>\n",
       "      <th>dt</th>\n",
       "      <th>switch</th>\n",
       "      <th>src</th>\n",
       "      <th>dst</th>\n",
       "      <th>pktcount</th>\n",
       "      <th>bytecount</th>\n",
       "      <th>dur</th>\n",
       "      <th>dur_nsec</th>\n",
       "      <th>tot_dur</th>\n",
       "      <th>flows</th>\n",
       "      <th>packetins</th>\n",
       "      <th>pktperflow</th>\n",
       "      <th>byteperflow</th>\n",
       "      <th>pktrate</th>\n",
       "      <th>Pairflow</th>\n",
       "      <th>Protocol</th>\n",
       "      <th>port_no</th>\n",
       "      <th>tx_bytes</th>\n",
       "      <th>rx_bytes</th>\n",
       "      <th>tx_kbps</th>\n",
       "      <th>rx_kbps</th>\n",
       "      <th>tot_kbps</th>\n",
       "      <th>label</th>\n",
       "    </tr>\n",
       "  </thead>\n",
       "  <tbody>\n",
       "    <tr>\n",
       "      <th>0</th>\n",
       "      <td>11425</td>\n",
       "      <td>1</td>\n",
       "      <td>10.0.0.1</td>\n",
       "      <td>10.0.0.8</td>\n",
       "      <td>45304</td>\n",
       "      <td>48294064</td>\n",
       "      <td>100</td>\n",
       "      <td>716000000</td>\n",
       "      <td>1.010000e+11</td>\n",
       "      <td>3</td>\n",
       "      <td>1943</td>\n",
       "      <td>13535</td>\n",
       "      <td>14428310</td>\n",
       "      <td>451</td>\n",
       "      <td>0</td>\n",
       "      <td>UDP</td>\n",
       "      <td>3</td>\n",
       "      <td>143928631</td>\n",
       "      <td>3917</td>\n",
       "      <td>0</td>\n",
       "      <td>0.0</td>\n",
       "      <td>0.0</td>\n",
       "      <td>0</td>\n",
       "    </tr>\n",
       "    <tr>\n",
       "      <th>1</th>\n",
       "      <td>11605</td>\n",
       "      <td>1</td>\n",
       "      <td>10.0.0.1</td>\n",
       "      <td>10.0.0.8</td>\n",
       "      <td>126395</td>\n",
       "      <td>134737070</td>\n",
       "      <td>280</td>\n",
       "      <td>734000000</td>\n",
       "      <td>2.810000e+11</td>\n",
       "      <td>2</td>\n",
       "      <td>1943</td>\n",
       "      <td>13531</td>\n",
       "      <td>14424046</td>\n",
       "      <td>451</td>\n",
       "      <td>0</td>\n",
       "      <td>UDP</td>\n",
       "      <td>4</td>\n",
       "      <td>3842</td>\n",
       "      <td>3520</td>\n",
       "      <td>0</td>\n",
       "      <td>0.0</td>\n",
       "      <td>0.0</td>\n",
       "      <td>0</td>\n",
       "    </tr>\n",
       "    <tr>\n",
       "      <th>2</th>\n",
       "      <td>11425</td>\n",
       "      <td>1</td>\n",
       "      <td>10.0.0.2</td>\n",
       "      <td>10.0.0.8</td>\n",
       "      <td>90333</td>\n",
       "      <td>96294978</td>\n",
       "      <td>200</td>\n",
       "      <td>744000000</td>\n",
       "      <td>2.010000e+11</td>\n",
       "      <td>3</td>\n",
       "      <td>1943</td>\n",
       "      <td>13534</td>\n",
       "      <td>14427244</td>\n",
       "      <td>451</td>\n",
       "      <td>0</td>\n",
       "      <td>UDP</td>\n",
       "      <td>1</td>\n",
       "      <td>3795</td>\n",
       "      <td>1242</td>\n",
       "      <td>0</td>\n",
       "      <td>0.0</td>\n",
       "      <td>0.0</td>\n",
       "      <td>0</td>\n",
       "    </tr>\n",
       "    <tr>\n",
       "      <th>3</th>\n",
       "      <td>11425</td>\n",
       "      <td>1</td>\n",
       "      <td>10.0.0.2</td>\n",
       "      <td>10.0.0.8</td>\n",
       "      <td>90333</td>\n",
       "      <td>96294978</td>\n",
       "      <td>200</td>\n",
       "      <td>744000000</td>\n",
       "      <td>2.010000e+11</td>\n",
       "      <td>3</td>\n",
       "      <td>1943</td>\n",
       "      <td>13534</td>\n",
       "      <td>14427244</td>\n",
       "      <td>451</td>\n",
       "      <td>0</td>\n",
       "      <td>UDP</td>\n",
       "      <td>2</td>\n",
       "      <td>3688</td>\n",
       "      <td>1492</td>\n",
       "      <td>0</td>\n",
       "      <td>0.0</td>\n",
       "      <td>0.0</td>\n",
       "      <td>0</td>\n",
       "    </tr>\n",
       "    <tr>\n",
       "      <th>4</th>\n",
       "      <td>11425</td>\n",
       "      <td>1</td>\n",
       "      <td>10.0.0.2</td>\n",
       "      <td>10.0.0.8</td>\n",
       "      <td>90333</td>\n",
       "      <td>96294978</td>\n",
       "      <td>200</td>\n",
       "      <td>744000000</td>\n",
       "      <td>2.010000e+11</td>\n",
       "      <td>3</td>\n",
       "      <td>1943</td>\n",
       "      <td>13534</td>\n",
       "      <td>14427244</td>\n",
       "      <td>451</td>\n",
       "      <td>0</td>\n",
       "      <td>UDP</td>\n",
       "      <td>3</td>\n",
       "      <td>3413</td>\n",
       "      <td>3665</td>\n",
       "      <td>0</td>\n",
       "      <td>0.0</td>\n",
       "      <td>0.0</td>\n",
       "      <td>0</td>\n",
       "    </tr>\n",
       "  </tbody>\n",
       "</table>\n",
       "</div>"
      ],
      "text/plain": [
       "      dt  switch       src       dst  pktcount  bytecount  dur   dur_nsec  \\\n",
       "0  11425       1  10.0.0.1  10.0.0.8     45304   48294064  100  716000000   \n",
       "1  11605       1  10.0.0.1  10.0.0.8    126395  134737070  280  734000000   \n",
       "2  11425       1  10.0.0.2  10.0.0.8     90333   96294978  200  744000000   \n",
       "3  11425       1  10.0.0.2  10.0.0.8     90333   96294978  200  744000000   \n",
       "4  11425       1  10.0.0.2  10.0.0.8     90333   96294978  200  744000000   \n",
       "\n",
       "        tot_dur  flows  packetins  pktperflow  byteperflow  pktrate  Pairflow  \\\n",
       "0  1.010000e+11      3       1943       13535     14428310      451         0   \n",
       "1  2.810000e+11      2       1943       13531     14424046      451         0   \n",
       "2  2.010000e+11      3       1943       13534     14427244      451         0   \n",
       "3  2.010000e+11      3       1943       13534     14427244      451         0   \n",
       "4  2.010000e+11      3       1943       13534     14427244      451         0   \n",
       "\n",
       "  Protocol  port_no   tx_bytes  rx_bytes  tx_kbps  rx_kbps  tot_kbps  label  \n",
       "0      UDP        3  143928631      3917        0      0.0       0.0      0  \n",
       "1      UDP        4       3842      3520        0      0.0       0.0      0  \n",
       "2      UDP        1       3795      1242        0      0.0       0.0      0  \n",
       "3      UDP        2       3688      1492        0      0.0       0.0      0  \n",
       "4      UDP        3       3413      3665        0      0.0       0.0      0  "
      ]
     },
     "execution_count": 7,
     "metadata": {},
     "output_type": "execute_result"
    }
   ],
   "source": [
    "data.head()"
   ]
  },
  {
   "cell_type": "code",
   "execution_count": 8,
   "id": "9b3e7a07-e098-49ee-8d5f-9b20d27179d0",
   "metadata": {
    "tags": []
   },
   "outputs": [
    {
     "data": {
      "text/plain": [
       "array([0, 1], dtype=int64)"
      ]
     },
     "execution_count": 8,
     "metadata": {},
     "output_type": "execute_result"
    }
   ],
   "source": [
    "data['label'].unique()"
   ]
  },
  {
   "cell_type": "markdown",
   "id": "1fadcd78-341a-494c-89b5-3a763e9ab53d",
   "metadata": {},
   "source": [
    "### Verification des manquants"
   ]
  },
  {
   "cell_type": "code",
   "execution_count": 9,
   "id": "8cb035be-bb37-4673-b193-42fc12813a98",
   "metadata": {
    "tags": []
   },
   "outputs": [
    {
     "data": {
      "text/plain": [
       "dt               0\n",
       "switch           0\n",
       "src              0\n",
       "dst              0\n",
       "pktcount         0\n",
       "bytecount        0\n",
       "dur              0\n",
       "dur_nsec         0\n",
       "tot_dur          0\n",
       "flows            0\n",
       "packetins        0\n",
       "pktperflow       0\n",
       "byteperflow      0\n",
       "pktrate          0\n",
       "Pairflow         0\n",
       "Protocol         0\n",
       "port_no          0\n",
       "tx_bytes         0\n",
       "rx_bytes         0\n",
       "tx_kbps          0\n",
       "rx_kbps        506\n",
       "tot_kbps       506\n",
       "label            0\n",
       "dtype: int64"
      ]
     },
     "execution_count": 9,
     "metadata": {},
     "output_type": "execute_result"
    }
   ],
   "source": [
    "data.isnull().sum()"
   ]
  },
  {
   "cell_type": "code",
   "execution_count": 10,
   "id": "8bb0bebd-9962-43ee-a9e2-92b7ca8278da",
   "metadata": {
    "tags": []
   },
   "outputs": [
    {
     "data": {
      "text/plain": [
       "array(['UDP', 'TCP', 'ICMP'], dtype=object)"
      ]
     },
     "execution_count": 10,
     "metadata": {},
     "output_type": "execute_result"
    }
   ],
   "source": [
    "data['Protocol'].unique()"
   ]
  },
  {
   "cell_type": "markdown",
   "id": "30ff9d09-ce37-40af-ab58-f7129bfbabf0",
   "metadata": {},
   "source": [
    "# Etape 4: Pretraitement des donnees"
   ]
  },
  {
   "cell_type": "markdown",
   "id": "5ee4efee-33a5-4318-99ab-28053d211272",
   "metadata": {},
   "source": [
    "### Mapping"
   ]
  },
  {
   "cell_type": "code",
   "execution_count": 11,
   "id": "18fccd7b-fb8a-4c7e-bbfa-9c8b966b998e",
   "metadata": {
    "tags": []
   },
   "outputs": [
    {
     "data": {
      "text/plain": [
       "0         0\n",
       "1         0\n",
       "2         0\n",
       "3         0\n",
       "4         0\n",
       "         ..\n",
       "104340    2\n",
       "104341    2\n",
       "104342    2\n",
       "104343    2\n",
       "104344    2\n",
       "Name: Protocol, Length: 104345, dtype: object"
      ]
     },
     "execution_count": 11,
     "metadata": {},
     "output_type": "execute_result"
    }
   ],
   "source": [
    "protocol_mapping = {\n",
    "    'UDP' : '0',\n",
    "    'TCP' : '1',\n",
    "    'ICMP' : '2'\n",
    "}\n",
    "\n",
    "data['Protocol'] = data['Protocol'].map(protocol_mapping)\n",
    "\n",
    "data['Protocol']"
   ]
  },
  {
   "cell_type": "markdown",
   "id": "5560d06a-d236-4344-81ca-669eca127238",
   "metadata": {},
   "source": [
    "### Label encoder"
   ]
  },
  {
   "cell_type": "code",
   "execution_count": 12,
   "id": "9e424ee3-3a0b-4067-b060-11a944bb169c",
   "metadata": {
    "tags": []
   },
   "outputs": [
    {
     "data": {
      "text/html": [
       "<div>\n",
       "<style scoped>\n",
       "    .dataframe tbody tr th:only-of-type {\n",
       "        vertical-align: middle;\n",
       "    }\n",
       "\n",
       "    .dataframe tbody tr th {\n",
       "        vertical-align: top;\n",
       "    }\n",
       "\n",
       "    .dataframe thead th {\n",
       "        text-align: right;\n",
       "    }\n",
       "</style>\n",
       "<table border=\"1\" class=\"dataframe\">\n",
       "  <thead>\n",
       "    <tr style=\"text-align: right;\">\n",
       "      <th></th>\n",
       "      <th>dt</th>\n",
       "      <th>switch</th>\n",
       "      <th>src</th>\n",
       "      <th>dst</th>\n",
       "      <th>pktcount</th>\n",
       "      <th>bytecount</th>\n",
       "      <th>dur</th>\n",
       "      <th>dur_nsec</th>\n",
       "      <th>tot_dur</th>\n",
       "      <th>flows</th>\n",
       "      <th>packetins</th>\n",
       "      <th>pktperflow</th>\n",
       "      <th>byteperflow</th>\n",
       "      <th>pktrate</th>\n",
       "      <th>Pairflow</th>\n",
       "      <th>Protocol</th>\n",
       "      <th>port_no</th>\n",
       "      <th>tx_bytes</th>\n",
       "      <th>rx_bytes</th>\n",
       "      <th>tx_kbps</th>\n",
       "      <th>rx_kbps</th>\n",
       "      <th>tot_kbps</th>\n",
       "      <th>label</th>\n",
       "    </tr>\n",
       "  </thead>\n",
       "  <tbody>\n",
       "    <tr>\n",
       "      <th>0</th>\n",
       "      <td>11425</td>\n",
       "      <td>1</td>\n",
       "      <td>0</td>\n",
       "      <td>16</td>\n",
       "      <td>45304</td>\n",
       "      <td>48294064</td>\n",
       "      <td>100</td>\n",
       "      <td>716000000</td>\n",
       "      <td>1.010000e+11</td>\n",
       "      <td>3</td>\n",
       "      <td>1943</td>\n",
       "      <td>13535</td>\n",
       "      <td>14428310</td>\n",
       "      <td>451</td>\n",
       "      <td>0</td>\n",
       "      <td>0</td>\n",
       "      <td>3</td>\n",
       "      <td>143928631</td>\n",
       "      <td>3917</td>\n",
       "      <td>0</td>\n",
       "      <td>0.0</td>\n",
       "      <td>0.0</td>\n",
       "      <td>0</td>\n",
       "    </tr>\n",
       "    <tr>\n",
       "      <th>1</th>\n",
       "      <td>11605</td>\n",
       "      <td>1</td>\n",
       "      <td>0</td>\n",
       "      <td>16</td>\n",
       "      <td>126395</td>\n",
       "      <td>134737070</td>\n",
       "      <td>280</td>\n",
       "      <td>734000000</td>\n",
       "      <td>2.810000e+11</td>\n",
       "      <td>2</td>\n",
       "      <td>1943</td>\n",
       "      <td>13531</td>\n",
       "      <td>14424046</td>\n",
       "      <td>451</td>\n",
       "      <td>0</td>\n",
       "      <td>0</td>\n",
       "      <td>4</td>\n",
       "      <td>3842</td>\n",
       "      <td>3520</td>\n",
       "      <td>0</td>\n",
       "      <td>0.0</td>\n",
       "      <td>0.0</td>\n",
       "      <td>0</td>\n",
       "    </tr>\n",
       "    <tr>\n",
       "      <th>2</th>\n",
       "      <td>11425</td>\n",
       "      <td>1</td>\n",
       "      <td>10</td>\n",
       "      <td>16</td>\n",
       "      <td>90333</td>\n",
       "      <td>96294978</td>\n",
       "      <td>200</td>\n",
       "      <td>744000000</td>\n",
       "      <td>2.010000e+11</td>\n",
       "      <td>3</td>\n",
       "      <td>1943</td>\n",
       "      <td>13534</td>\n",
       "      <td>14427244</td>\n",
       "      <td>451</td>\n",
       "      <td>0</td>\n",
       "      <td>0</td>\n",
       "      <td>1</td>\n",
       "      <td>3795</td>\n",
       "      <td>1242</td>\n",
       "      <td>0</td>\n",
       "      <td>0.0</td>\n",
       "      <td>0.0</td>\n",
       "      <td>0</td>\n",
       "    </tr>\n",
       "    <tr>\n",
       "      <th>3</th>\n",
       "      <td>11425</td>\n",
       "      <td>1</td>\n",
       "      <td>10</td>\n",
       "      <td>16</td>\n",
       "      <td>90333</td>\n",
       "      <td>96294978</td>\n",
       "      <td>200</td>\n",
       "      <td>744000000</td>\n",
       "      <td>2.010000e+11</td>\n",
       "      <td>3</td>\n",
       "      <td>1943</td>\n",
       "      <td>13534</td>\n",
       "      <td>14427244</td>\n",
       "      <td>451</td>\n",
       "      <td>0</td>\n",
       "      <td>0</td>\n",
       "      <td>2</td>\n",
       "      <td>3688</td>\n",
       "      <td>1492</td>\n",
       "      <td>0</td>\n",
       "      <td>0.0</td>\n",
       "      <td>0.0</td>\n",
       "      <td>0</td>\n",
       "    </tr>\n",
       "    <tr>\n",
       "      <th>4</th>\n",
       "      <td>11425</td>\n",
       "      <td>1</td>\n",
       "      <td>10</td>\n",
       "      <td>16</td>\n",
       "      <td>90333</td>\n",
       "      <td>96294978</td>\n",
       "      <td>200</td>\n",
       "      <td>744000000</td>\n",
       "      <td>2.010000e+11</td>\n",
       "      <td>3</td>\n",
       "      <td>1943</td>\n",
       "      <td>13534</td>\n",
       "      <td>14427244</td>\n",
       "      <td>451</td>\n",
       "      <td>0</td>\n",
       "      <td>0</td>\n",
       "      <td>3</td>\n",
       "      <td>3413</td>\n",
       "      <td>3665</td>\n",
       "      <td>0</td>\n",
       "      <td>0.0</td>\n",
       "      <td>0.0</td>\n",
       "      <td>0</td>\n",
       "    </tr>\n",
       "  </tbody>\n",
       "</table>\n",
       "</div>"
      ],
      "text/plain": [
       "      dt  switch  src  dst  pktcount  bytecount  dur   dur_nsec       tot_dur  \\\n",
       "0  11425       1    0   16     45304   48294064  100  716000000  1.010000e+11   \n",
       "1  11605       1    0   16    126395  134737070  280  734000000  2.810000e+11   \n",
       "2  11425       1   10   16     90333   96294978  200  744000000  2.010000e+11   \n",
       "3  11425       1   10   16     90333   96294978  200  744000000  2.010000e+11   \n",
       "4  11425       1   10   16     90333   96294978  200  744000000  2.010000e+11   \n",
       "\n",
       "   flows  packetins  pktperflow  byteperflow  pktrate  Pairflow Protocol  \\\n",
       "0      3       1943       13535     14428310      451         0        0   \n",
       "1      2       1943       13531     14424046      451         0        0   \n",
       "2      3       1943       13534     14427244      451         0        0   \n",
       "3      3       1943       13534     14427244      451         0        0   \n",
       "4      3       1943       13534     14427244      451         0        0   \n",
       "\n",
       "   port_no   tx_bytes  rx_bytes  tx_kbps  rx_kbps  tot_kbps  label  \n",
       "0        3  143928631      3917        0      0.0       0.0      0  \n",
       "1        4       3842      3520        0      0.0       0.0      0  \n",
       "2        1       3795      1242        0      0.0       0.0      0  \n",
       "3        2       3688      1492        0      0.0       0.0      0  \n",
       "4        3       3413      3665        0      0.0       0.0      0  "
      ]
     },
     "execution_count": 12,
     "metadata": {},
     "output_type": "execute_result"
    }
   ],
   "source": [
    "encodeur = LabelEncoder()\n",
    "data['src'] = encodeur.fit_transform(data['src'])\n",
    "data['dst'] = encodeur.fit_transform(data['dst'])\n",
    "\n",
    "data.head()"
   ]
  },
  {
   "cell_type": "markdown",
   "id": "04bbd30b-3857-4476-81d2-b9756b45e75f",
   "metadata": {},
   "source": [
    "### Imputation"
   ]
  },
  {
   "cell_type": "code",
   "execution_count": 13,
   "id": "02270fec-a826-490d-8467-7cedea45c709",
   "metadata": {
    "tags": []
   },
   "outputs": [
    {
     "data": {
      "text/plain": [
       "dt             0\n",
       "switch         0\n",
       "src            0\n",
       "dst            0\n",
       "pktcount       0\n",
       "bytecount      0\n",
       "dur            0\n",
       "dur_nsec       0\n",
       "tot_dur        0\n",
       "flows          0\n",
       "packetins      0\n",
       "pktperflow     0\n",
       "byteperflow    0\n",
       "pktrate        0\n",
       "Pairflow       0\n",
       "Protocol       0\n",
       "port_no        0\n",
       "tx_bytes       0\n",
       "rx_bytes       0\n",
       "tx_kbps        0\n",
       "rx_kbps        0\n",
       "tot_kbps       0\n",
       "label          0\n",
       "dtype: int64"
      ]
     },
     "execution_count": 13,
     "metadata": {},
     "output_type": "execute_result"
    }
   ],
   "source": [
    "data['rx_kbps'] = data['rx_kbps'].fillna(data['rx_kbps'].mean())\n",
    "data['tot_kbps'] = data['tot_kbps'].fillna(data['tot_kbps'].mean())\n",
    "\n",
    "\n",
    "data.isnull().sum()"
   ]
  },
  {
   "cell_type": "markdown",
   "id": "ffd78387-1598-4883-8b91-364c2e61fe54",
   "metadata": {},
   "source": [
    "# Etape 5: Diviser les donnees: X et y  ; Train et Test"
   ]
  },
  {
   "cell_type": "markdown",
   "id": "f8efcdef-03df-4b61-94ba-1f0863f1ee50",
   "metadata": {},
   "source": [
    "## X et Y"
   ]
  },
  {
   "cell_type": "code",
   "execution_count": 14,
   "id": "81e5935e-a48f-438d-aa52-18c2c225f154",
   "metadata": {
    "tags": []
   },
   "outputs": [
    {
     "data": {
      "text/plain": [
       "(104345, 22)"
      ]
     },
     "execution_count": 14,
     "metadata": {},
     "output_type": "execute_result"
    }
   ],
   "source": [
    "X = data.iloc[:, :-1]\n",
    "y = data.iloc[:, -1]\n",
    "\n",
    "X.shape"
   ]
  },
  {
   "cell_type": "code",
   "execution_count": 15,
   "id": "5129c359-c538-467d-9056-802ae6b2bf0c",
   "metadata": {
    "tags": []
   },
   "outputs": [
    {
     "data": {
      "text/plain": [
       "(104345,)"
      ]
     },
     "execution_count": 15,
     "metadata": {},
     "output_type": "execute_result"
    }
   ],
   "source": [
    "y.shape"
   ]
  },
  {
   "cell_type": "markdown",
   "id": "ce5c91d8-779b-453f-b928-33afd169c207",
   "metadata": {},
   "source": [
    "## Train et Test"
   ]
  },
  {
   "cell_type": "code",
   "execution_count": 16,
   "id": "4690df1a-7ce9-46b6-bb42-df63f511f1b8",
   "metadata": {
    "tags": []
   },
   "outputs": [
    {
     "name": "stdout",
     "output_type": "stream",
     "text": [
      "x_train shape: (73041, 22)\n",
      "x_test shape: (31304, 22)\n",
      "y_train shape: (73041,)\n",
      "y_test shape: (31304,)\n"
     ]
    }
   ],
   "source": [
    "x_train, x_test, y_train, y_test = train_test_split(X, y, test_size=0.3, random_state=0)\n",
    "\n",
    "print('x_train shape:', x_train.shape)\n",
    "print('x_test shape:', x_test.shape)\n",
    "print('y_train shape:', y_train.shape)\n",
    "print('y_test shape:', y_test.shape)\n"
   ]
  },
  {
   "cell_type": "markdown",
   "id": "3a4ba079-6d9f-4133-aa57-2d387969f9ab",
   "metadata": {},
   "source": [
    "# Etape 6: Selectionner 5 Algorithmes"
   ]
  },
  {
   "cell_type": "markdown",
   "id": "5ccae4e2-de38-46f8-a3fb-5900a7a1d2cc",
   "metadata": {},
   "source": [
    "### 6.1 Logistic Regressor"
   ]
  },
  {
   "cell_type": "code",
   "execution_count": 17,
   "id": "8fe896c6-eb2a-4bcd-9094-75712d3dd9f4",
   "metadata": {
    "tags": []
   },
   "outputs": [],
   "source": [
    "modele_lr = LogisticRegression()\n",
    "modele_lr.fit(x_train, y_train)\n",
    "y_pred_lr = modele_lr.predict(x_test)"
   ]
  },
  {
   "cell_type": "code",
   "execution_count": 39,
   "id": "c9d4be24-3f75-4e27-9522-8cb8a253b56b",
   "metadata": {},
   "outputs": [
    {
     "name": "stdout",
     "output_type": "stream",
     "text": [
      "[1 0 0 ... 0 0 1]\n"
     ]
    }
   ],
   "source": [
    "print(y_pred_lr)"
   ]
  },
  {
   "cell_type": "code",
   "execution_count": 41,
   "id": "e9090695-3228-4183-bdd6-5a0c570f2c11",
   "metadata": {
    "tags": []
   },
   "outputs": [],
   "source": [
    "#ConfusionMatrixDisplay.from_estimator(modele_lr, y_test, y_pred_lr)"
   ]
  },
  {
   "cell_type": "markdown",
   "id": "3c580fe7-5f6b-46b8-b5d5-0da09c338195",
   "metadata": {
    "tags": []
   },
   "source": [
    "### 6.2 Random Forest"
   ]
  },
  {
   "cell_type": "code",
   "execution_count": 19,
   "id": "9243d064-1723-45f3-bf54-c11dbab7bdbf",
   "metadata": {
    "tags": []
   },
   "outputs": [],
   "source": [
    "modele_rf = RandomForestClassifier()\n",
    "modele_rf.fit(x_train, y_train)\n",
    "y_pred_rf = modele_rf.predict(x_test)"
   ]
  },
  {
   "cell_type": "code",
   "execution_count": 20,
   "id": "811d5d28-aaf2-4009-a66d-64118ed48c6e",
   "metadata": {},
   "outputs": [
    {
     "name": "stdout",
     "output_type": "stream",
     "text": [
      "[0 1 1 ... 1 0 0]\n"
     ]
    }
   ],
   "source": [
    "print(y_pred_rf)"
   ]
  },
  {
   "cell_type": "code",
   "execution_count": 42,
   "id": "04869530-9adf-4835-b288-1d1a9274ffca",
   "metadata": {
    "tags": []
   },
   "outputs": [
    {
     "data": {
      "text/plain": [
       "<sklearn.metrics._plot.confusion_matrix.ConfusionMatrixDisplay at 0x13e8313e450>"
      ]
     },
     "execution_count": 42,
     "metadata": {},
     "output_type": "execute_result"
    },
    {
     "data": {
      "image/png": "[encoded data removed]",
      "text/plain": [
       "<Figure size 640x480 with 2 Axes>"
      ]
     },
     "metadata": {},
     "output_type": "display_data"
    }
   ],
   "source": [
    "ConfusionMatrixDisplay.from_estimator(modele_rf, x_test, y_test)"
   ]
  },
  {
   "cell_type": "markdown",
   "id": "bf69fd7d-dce5-426c-b2ae-59f5a162f8bd",
   "metadata": {},
   "source": [
    "### 6.3 Decision Tree"
   ]
  },
  {
   "cell_type": "code",
   "execution_count": 21,
   "id": "3e400544-2b1d-4a13-8f95-5b3d95d95697",
   "metadata": {
    "tags": []
   },
   "outputs": [],
   "source": [
    "modele_dt = DecisionTreeClassifier()\n",
    "modele_dt.fit(x_train, y_train)\n",
    "y_pred_dt = modele_dt.predict(x_test)"
   ]
  },
  {
   "cell_type": "code",
   "execution_count": 22,
   "id": "d266f25c-3f9c-4c2f-bbdc-1abe9b49a25f",
   "metadata": {},
   "outputs": [
    {
     "name": "stdout",
     "output_type": "stream",
     "text": [
      "[0 1 1 ... 1 0 0]\n"
     ]
    }
   ],
   "source": [
    "print(y_pred_dt)"
   ]
  },
  {
   "cell_type": "markdown",
   "id": "deaaf127-760e-437a-baad-4baeb3155f04",
   "metadata": {},
   "source": [
    "### 6.4 K_NN"
   ]
  },
  {
   "cell_type": "code",
   "execution_count": 23,
   "id": "7d1f4fdd-c077-4465-85e1-60e247b7507b",
   "metadata": {},
   "outputs": [],
   "source": [
    "#modele_knn = KNeighborsClassifier()\n",
    "#modele_knn.fit(x_train, y_train)\n",
    "#y_pred_knn = modele_knn.predict(x_test)"
   ]
  },
  {
   "cell_type": "code",
   "execution_count": 24,
   "id": "ec9b03d0-3f6b-461e-b738-c915a77b1319",
   "metadata": {},
   "outputs": [],
   "source": [
    "#print(y_pred_knn)"
   ]
  },
  {
   "cell_type": "markdown",
   "id": "298c4392-3ca7-44b9-af49-83544721ab07",
   "metadata": {},
   "source": [
    "### 6.5 SVC"
   ]
  },
  {
   "cell_type": "code",
   "execution_count": 25,
   "id": "a0cfdbf4-78a7-4057-897f-f0f4f45dbd73",
   "metadata": {
    "tags": []
   },
   "outputs": [],
   "source": [
    "#modele_svc = SVC()\n",
    "#modele_svc.fit(x_train, y_train)\n",
    "#y_pred_svc = modele_svc.predict(x_test)"
   ]
  },
  {
   "cell_type": "code",
   "execution_count": 26,
   "id": "61cb9112-a799-4189-a950-297661b310d8",
   "metadata": {},
   "outputs": [],
   "source": [
    "#print(y_pred_svc)"
   ]
  },
  {
   "cell_type": "markdown",
   "id": "07616357-ca29-4f18-881d-8d04934aabec",
   "metadata": {},
   "source": [
    "# Etape 7: Evaluation des modeles et comparaison"
   ]
  },
  {
   "cell_type": "markdown",
   "id": "5136c721-c8d2-4286-a608-d6a2fc523b9d",
   "metadata": {},
   "source": [
    "### Accuracy"
   ]
  },
  {
   "cell_type": "markdown",
   "id": "a3786193-ec98-4f1f-9ed7-988243a2f1d3",
   "metadata": {},
   "source": [
    "### Accuracy"
   ]
  },
  {
   "cell_type": "code",
   "execution_count": 27,
   "id": "a9fe431a-d93a-4e18-b6f1-6bdda3ddfeab",
   "metadata": {
    "tags": []
   },
   "outputs": [
    {
     "name": "stdout",
     "output_type": "stream",
     "text": [
      "Accuracy du LR: 0.681638129312548\n",
      "Accuracy du RF: 1.0\n",
      "Accuracy du DT: 1.0\n"
     ]
    }
   ],
   "source": [
    "print('Accuracy du LR:', accuracy_score(y_test, y_pred_lr))\n",
    "print('Accuracy du RF:', accuracy_score(y_test, y_pred_rf))\n",
    "print('Accuracy du DT:', accuracy_score(y_test, y_pred_dt))\n",
    "#print('Accuracy du KNN:', accuracy_score(y_test, y_pred_knn))\n",
    "#print('Accuracy du SVC:', accuracy_score(y_test, y_pred_svc))"
   ]
  },
  {
   "cell_type": "code",
   "execution_count": 28,
   "id": "6f00a1cb-c95f-40f5-abb1-ffd2696855de",
   "metadata": {
    "tags": []
   },
   "outputs": [
    {
     "name": "stdout",
     "output_type": "stream",
     "text": [
      "22391    0\n",
      "71456    1\n",
      "37937    1\n",
      "78375    1\n",
      "75423    1\n",
      "        ..\n",
      "66529    1\n",
      "49969    1\n",
      "82078    1\n",
      "68008    0\n",
      "16907    0\n",
      "Name: label, Length: 31304, dtype: int64\n"
     ]
    }
   ],
   "source": [
    "print(y_test)"
   ]
  },
  {
   "cell_type": "code",
   "execution_count": 29,
   "id": "c077ae58-8fb4-4af4-bd0e-161497f14164",
   "metadata": {
    "tags": []
   },
   "outputs": [
    {
     "name": "stdout",
     "output_type": "stream",
     "text": [
      "[0 1 1 ... 1 0 0]\n"
     ]
    }
   ],
   "source": [
    "print(y_pred_rf)"
   ]
  },
  {
   "cell_type": "markdown",
   "id": "4d468e84-62f4-4bc7-bae7-c34d7a2f61ea",
   "metadata": {},
   "source": [
    "### Precision"
   ]
  },
  {
   "cell_type": "code",
   "execution_count": 30,
   "id": "c5266e77-dfb5-424a-82c6-15a78253a9f5",
   "metadata": {
    "tags": []
   },
   "outputs": [
    {
     "name": "stdout",
     "output_type": "stream",
     "text": [
      "Precision du LR: 0.6215677071110068\n",
      "Precision du RF: 1.0\n",
      "Precision du DT: 1.0\n"
     ]
    }
   ],
   "source": [
    "print('Precision du LR:', precision_score(y_test, y_pred_lr))\n",
    "print('Precision du RF:', precision_score(y_test, y_pred_rf))\n",
    "print('Precision du DT:', precision_score(y_test, y_pred_dt))\n",
    "#print('Precision du KNN:', precision_score(y_test, y_pred_knn))\n",
    "#print('Precision du SVC:', precision_score(y_test, y_pred_svc))"
   ]
  },
  {
   "cell_type": "markdown",
   "id": "78897193-599f-48a4-b003-d69625790c43",
   "metadata": {},
   "source": [
    "### Recall"
   ]
  },
  {
   "cell_type": "code",
   "execution_count": 31,
   "id": "83860b22-97cf-4f08-9bfc-c565049ce5b5",
   "metadata": {
    "tags": []
   },
   "outputs": [
    {
     "name": "stdout",
     "output_type": "stream",
     "text": [
      "Recall du LR: 0.44002325967768735\n",
      "Recall du RF: 1.0\n",
      "Recall du DT: 1.0\n"
     ]
    }
   ],
   "source": [
    "print('Recall du LR:', recall_score(y_test, y_pred_lr))\n",
    "print('Recall du RF:', recall_score(y_test, y_pred_rf))\n",
    "print('Recall du DT:', recall_score(y_test, y_pred_dt))\n",
    "#print('Recall du KNN:', recall_score(y_test, y_pred_knn))\n",
    "#print('Recall du SVC:', recall_score(y_test, y_pred_svc))"
   ]
  },
  {
   "cell_type": "markdown",
   "id": "f7a7b715-ce55-41c8-aee0-a9f98229dd63",
   "metadata": {},
   "source": [
    "### F1_score"
   ]
  },
  {
   "cell_type": "code",
   "execution_count": 32,
   "id": "6cdb2eb7-6868-44f6-82db-ce8f66fb09a3",
   "metadata": {
    "tags": []
   },
   "outputs": [
    {
     "name": "stdout",
     "output_type": "stream",
     "text": [
      "f1_score du LR: 0.5152723735408561\n",
      "f1_score du RF: 1.0\n",
      "f1_score du DT: 1.0\n"
     ]
    }
   ],
   "source": [
    "print('f1_score du LR:', f1_score(y_test, y_pred_lr))\n",
    "print('f1_score du RF:', f1_score(y_test, y_pred_rf))\n",
    "print('f1_score du DT:', f1_score(y_test, y_pred_dt))\n",
    "#print('f1_score du KNN:', f1_score(y_test, y_pred_knn))\n",
    "#print('f1_score du SVC:', f1_score(y_test, y_pred_svc))"
   ]
  },
  {
   "cell_type": "markdown",
   "id": "97c52cf7-eff0-4706-aae7-a486f9a6c2b0",
   "metadata": {},
   "source": [
    "### MSE"
   ]
  },
  {
   "cell_type": "code",
   "execution_count": 33,
   "id": "796e32d5-539b-4789-ae82-e3ec7c386e14",
   "metadata": {
    "tags": []
   },
   "outputs": [
    {
     "name": "stdout",
     "output_type": "stream",
     "text": [
      "MSE du LR: 0.3183618706874521\n",
      "MSE du RF: 0.0\n",
      "MSE du DT: 0.0\n"
     ]
    }
   ],
   "source": [
    "print('MSE du LR:', mean_squared_error(y_test, y_pred_lr))\n",
    "print('MSE du RF:', mean_squared_error(y_test, y_pred_rf))\n",
    "print('MSE du DT:', mean_squared_error(y_test, y_pred_dt))\n",
    "#print('MSE du KNN:', mean_squared_error(y_test, y_pred_knn))\n",
    "#print('MSE du SVC:', mean_squared_error(y_test, y_pred_svc))"
   ]
  },
  {
   "cell_type": "markdown",
   "id": "6c3a3480-0e48-4a52-8ce8-01fcfcbce8c1",
   "metadata": {},
   "source": [
    "# Etape 8: Prediction simple"
   ]
  },
  {
   "cell_type": "markdown",
   "id": "0b35afb5-be87-4684-918a-8de733927c27",
   "metadata": {
    "tags": []
   },
   "source": [
    "### Logistic Regression"
   ]
  },
  {
   "cell_type": "code",
   "execution_count": 34,
   "id": "35a4a1c2-9641-49af-84c9-5ee280ec79ad",
   "metadata": {
    "tags": []
   },
   "outputs": [
    {
     "name": "stdout",
     "output_type": "stream",
     "text": [
      "[0]\n"
     ]
    }
   ],
   "source": [
    "print(modele_lr.predict([[11425, 1, 0, 16, 45304, 48294064, 100, 716000000, 1.010000e+11, 3, 1943, 13535, 14428310, 451, 0, 0, 3, 143928631, 3917, 0, 0.0, 0.0]]))"
   ]
  },
  {
   "cell_type": "markdown",
   "id": "8cab1eed-b9a2-405f-a6ff-b1ff6165c09c",
   "metadata": {},
   "source": [
    "### Random Forest"
   ]
  },
  {
   "cell_type": "code",
   "execution_count": 35,
   "id": "482ea32d-379c-429f-bf99-9c24ac828623",
   "metadata": {
    "tags": []
   },
   "outputs": [
    {
     "name": "stdout",
     "output_type": "stream",
     "text": [
      "[0]\n"
     ]
    }
   ],
   "source": [
    "print(modele_rf.predict([[11425, 1, 0, 16, 45304, 48294064, 100, 716000000, 1.010000e+11, 3, 1943, 13535, 14428310, 451, 0, 0, 3, 143928631, 3917, 0, 0.0, 0.0]]))"
   ]
  },
  {
   "cell_type": "markdown",
   "id": "342048b8-d399-4577-9081-5c12e5d4db53",
   "metadata": {},
   "source": [
    "### Decision Tree"
   ]
  },
  {
   "cell_type": "code",
   "execution_count": 36,
   "id": "1be4823c-a17b-4b7a-8099-8748dacd5617",
   "metadata": {},
   "outputs": [
    {
     "name": "stdout",
     "output_type": "stream",
     "text": [
      "[0]\n"
     ]
    }
   ],
   "source": [
    "print(modele_dt.predict([[11425, 1, 0, 16, 45304, 48294064, 100, 716000000, 1.010000e+11, 3, 1943, 13535, 14428310, 451, 0, 0, 3, 143928631, 3917, 0, 0.0, 0.0]]))"
   ]
  },
  {
   "cell_type": "markdown",
   "id": "c1dd7143-4aad-4348-bcb0-9f0cf5fd7ada",
   "metadata": {},
   "source": [
    "### KNN"
   ]
  },
  {
   "cell_type": "code",
   "execution_count": 37,
   "id": "6c24e467-75ed-4174-b156-2e4c8e749b4f",
   "metadata": {},
   "outputs": [],
   "source": [
    "#modele_knn.predict([[11425, 1, 0, 16, 45304, 48294064, 100, 716000000, 1.010000e+11, 3, 1943, 13535, 14428310, 451, 0, 0, 3, 143928631, 3917, 0, 0.0, 0.0]])"
   ]
  },
  {
   "cell_type": "markdown",
   "id": "5cd59f99-dc52-4848-92ec-53670e74dc32",
   "metadata": {},
   "source": [
    "### SVC"
   ]
  },
  {
   "cell_type": "code",
   "execution_count": 38,
   "id": "210fbaf8-5ac1-4c69-bc0e-3962727b20bd",
   "metadata": {
    "tags": []
   },
   "outputs": [],
   "source": [
    "#modele_svc.predict([[11425, 1, 0, 16, 45304, 48294064, 100, 716000000, 1.010000e+11, 3, 1943, 13535, 14428310, 451, 0, 0, 3, 143928631, 3917, 0, 0.0, 0.0]])"
   ]
  }
 ],
 "metadata": {
  "kernelspec": {
   "display_name": "Python 3 (ipykernel)",
   "language": "python",
   "name": "python3"
  },
  "language_info": {
   "codemirror_mode": {
    "name": "ipython",
    "version": 3
   },
   "file_extension": ".py",
   "mimetype": "text/x-python",
   "name": "python",
   "nbconvert_exporter": "python",
   "pygments_lexer": "ipython3",
   "version": "3.11.11"
  }
 },
 "nbformat": 4,
 "nbformat_minor": 5
}
