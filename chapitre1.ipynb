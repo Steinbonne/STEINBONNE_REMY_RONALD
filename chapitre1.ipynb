{
 "cells": [
  {
   "cell_type": "markdown",
   "id": "588a484e-6474-41ca-bac4-3e935066e45d",
   "metadata": {},
   "source": [
    "# Tableaux"
   ]
  },
  {
   "cell_type": "code",
   "execution_count": 294,
   "id": "7ef8ab88-ad69-4251-8410-3897bb86855a",
   "metadata": {
    "tags": []
   },
   "outputs": [],
   "source": [
    "import numpy as np\n",
    "import pandas as pd\n",
    "import matplotlib.pyplot as plt\n",
    "import seaborn as sns"
   ]
  },
  {
   "cell_type": "markdown",
   "id": "35375479-ca8e-4976-b447-aed9ed58acdc",
   "metadata": {},
   "source": [
    "## 1.1 Tableau 1D"
   ]
  },
  {
   "cell_type": "code",
   "execution_count": 295,
   "id": "20c136c4-548d-4b82-8c0e-c07aeff31642",
   "metadata": {
    "tags": []
   },
   "outputs": [
    {
     "name": "stdout",
     "output_type": "stream",
     "text": [
      "Dimensions du tableau (7,)\n",
      "Type du tableau <class 'numpy.ndarray'>\n",
      "[ 2  4  6  8 10 12 14]\n"
     ]
    }
   ],
   "source": [
    "# Creation d'un tableau 1D\n",
    "\n",
    "tab_1D = np.array([2,4,6,8,10,12,14])\n",
    "\n",
    "print(\"Dimensions du tableau\", tab_1D.shape)\n",
    "print(\"Type du tableau\", type(tab_1D))\n",
    "print(tab_1D)"
   ]
  },
  {
   "cell_type": "markdown",
   "id": "83550a45-2147-4033-91d0-9e36148bd21e",
   "metadata": {
    "tags": []
   },
   "source": [
    "## 1.2 Tableau 2D"
   ]
  },
  {
   "cell_type": "code",
   "execution_count": 296,
   "id": "12dfb89b-a05d-4882-9b7f-6aa84962e513",
   "metadata": {
    "tags": []
   },
   "outputs": [
    {
     "name": "stdout",
     "output_type": "stream",
     "text": [
      "Dimensions du tableau (4, 7)\n",
      "Type du tableau <class 'numpy.ndarray'>\n",
      "[[ 2  4  6  8 10 12 14]\n",
      " [ 2  4  6  8 10 12 14]\n",
      " [ 2  4  6  8 10 12 14]\n",
      " [ 2  4  6  8 10 12 14]]\n"
     ]
    }
   ],
   "source": [
    "# Creation d'un tableau 2D\n",
    "\n",
    "tab_2D = np.array([\n",
    "    [2,4,6,8,10,12,14],\n",
    "    [2,4,6,8,10,12,14],\n",
    "    [2,4,6,8,10,12,14],\n",
    "    [2,4,6,8,10,12,14]\n",
    "    ])\n",
    "print(\"Dimensions du tableau\", tab_2D.shape)\n",
    "print(\"Type du tableau\", type(tab_2D))\n",
    "print(tab_2D)"
   ]
  },
  {
   "cell_type": "markdown",
   "id": "f731d5e6-6de5-4077-a989-aad2c7e44f7b",
   "metadata": {},
   "source": [
    "## 1.3 Tableau 3D"
   ]
  },
  {
   "cell_type": "markdown",
   "id": "bc04497e-d1be-4a5a-8405-d19ba2bca15b",
   "metadata": {
    "tags": []
   },
   "source": [
    "# Creation d'un tableau 2D\n",
    "\n",
    "tab_3D = np.array([[\n",
    "    [2,4,6,8,10,12,14],\n",
    "    [2,4,6,8,10,12,14],\n",
    "    [2,4,6,8,10,12,14],\n",
    "    [2,4,6,8,10,12,14]\n",
    "    \n",
    "]])\n",
    "print(\"Dimensions du tableau\", tab_3D.shape)\n",
    "print(\"Type du tableau\", type(tab_3D))\n",
    "print(tab_3D)"
   ]
  },
  {
   "cell_type": "markdown",
   "id": "efc4d2c5-7bd1-4307-a786-69caf49a1911",
   "metadata": {},
   "source": [
    "## 1.4 Tableau 4D"
   ]
  },
  {
   "cell_type": "code",
   "execution_count": 297,
   "id": "7818ba61-c75e-4f36-a66b-37786e406427",
   "metadata": {
    "tags": []
   },
   "outputs": [
    {
     "name": "stdout",
     "output_type": "stream",
     "text": [
      "Dimensions du tableau (1, 1, 4, 7)\n",
      "Type du tableau <class 'numpy.ndarray'>\n",
      "[[[[ 2  4  6  8 10 12 14]\n",
      "   [ 2  4  6  8 10 12 14]\n",
      "   [ 2  4  6  8 10 12 14]\n",
      "   [ 2  4  6  8 10 12 14]]]]\n"
     ]
    }
   ],
   "source": [
    "# Creation d'un tableau 2D\n",
    "\n",
    "tab_4D = np.array([[[\n",
    "    [2,4,6,8,10,12,14],\n",
    "    [2,4,6,8,10,12,14],\n",
    "    [2,4,6,8,10,12,14],\n",
    "    [2,4,6,8,10,12,14]\n",
    "    \n",
    "]]])\n",
    "\n",
    "print(\"Dimensions du tableau\", tab_4D.shape)\n",
    "print(\"Type du tableau\", type(tab_4D))\n",
    "print(tab_4D)"
   ]
  },
  {
   "cell_type": "markdown",
   "id": "3aeca2c3-7fd9-4b7c-bbe1-a8806c7cc3e0",
   "metadata": {},
   "source": [
    "## 2. Operations"
   ]
  },
  {
   "cell_type": "code",
   "execution_count": 298,
   "id": "c06cc3ee-db12-4763-ae52-aa4ed1dab08b",
   "metadata": {
    "tags": []
   },
   "outputs": [],
   "source": [
    "a= np.array([\n",
    "    [2, 4, 6, 8],\n",
    "    [25, 45, 65, 85]\n",
    "])\n",
    "\n",
    "b= np.array([\n",
    "    [20, 40, 60, 80],\n",
    "    [250, 450, 650, 850]\n",
    "])\n"
   ]
  },
  {
   "cell_type": "code",
   "execution_count": 299,
   "id": "5b2888e8-e4e5-4981-aa50-57ceb88de785",
   "metadata": {
    "tags": []
   },
   "outputs": [
    {
     "name": "stdout",
     "output_type": "stream",
     "text": [
      "(2, 4)\n",
      "[[ 2  4  6  8]\n",
      " [25 45 65 85]]\n",
      "(2, 4)\n",
      "[[ 20  40  60  80]\n",
      " [250 450 650 850]]\n"
     ]
    }
   ],
   "source": [
    "print(a.shape)\n",
    "print(a)\n",
    "print(b.shape)\n",
    "print(b)\n"
   ]
  },
  {
   "cell_type": "markdown",
   "id": "280f6285-8f68-44f5-8ea9-dfc09318b12e",
   "metadata": {
    "tags": []
   },
   "source": [
    "### Addition"
   ]
  },
  {
   "cell_type": "code",
   "execution_count": 300,
   "id": "9fc7539b-cdee-4723-933e-4b7a52a0526f",
   "metadata": {
    "tags": []
   },
   "outputs": [
    {
     "name": "stdout",
     "output_type": "stream",
     "text": [
      "[[ 22  44  66  88]\n",
      " [275 495 715 935]]\n",
      "[[ 18  36  54  72]\n",
      " [225 405 585 765]]\n"
     ]
    }
   ],
   "source": [
    "print(a+b)\n",
    "print(b-a)"
   ]
  },
  {
   "cell_type": "markdown",
   "id": "a747bbd3-2aa9-4ab5-94c0-40903bed1b3a",
   "metadata": {
    "tags": []
   },
   "source": [
    "### Soustraction"
   ]
  },
  {
   "cell_type": "code",
   "execution_count": 301,
   "id": "53462c1a-4991-4fbf-bf2c-e039e07cfa0b",
   "metadata": {
    "tags": []
   },
   "outputs": [
    {
     "name": "stdout",
     "output_type": "stream",
     "text": [
      "[[ -18  -36  -54  -72]\n",
      " [-225 -405 -585 -765]]\n",
      "[[ 18  36  54  72]\n",
      " [225 405 585 765]]\n"
     ]
    }
   ],
   "source": [
    "print(a-b)\n",
    "print(b-a)"
   ]
  },
  {
   "cell_type": "markdown",
   "id": "b9cb2809-12d9-4f49-81ba-3a70e75be618",
   "metadata": {
    "tags": []
   },
   "source": [
    "### Multiplication"
   ]
  },
  {
   "cell_type": "code",
   "execution_count": 302,
   "id": "d815a226-1da8-45fa-827d-603956389b92",
   "metadata": {
    "tags": []
   },
   "outputs": [
    {
     "name": "stdout",
     "output_type": "stream",
     "text": [
      "[[   40   160   360   640]\n",
      " [ 6250 20250 42250 72250]]\n",
      "[[   40   160   360   640]\n",
      " [ 6250 20250 42250 72250]]\n"
     ]
    }
   ],
   "source": [
    "print(a*b)\n",
    "print(b*a)"
   ]
  },
  {
   "cell_type": "markdown",
   "id": "1d08177e-ca84-41e1-aae4-c4814b59fce7",
   "metadata": {},
   "source": [
    "# Dictionnaire"
   ]
  },
  {
   "cell_type": "code",
   "execution_count": 303,
   "id": "de1e8c51-73ff-429f-b42b-4c23d0f0e566",
   "metadata": {
    "tags": []
   },
   "outputs": [
    {
     "name": "stdout",
     "output_type": "stream",
     "text": [
      "{'Matricule': '20221235543', 'Nom': 'KASONGO', 'Prenom': 'David', 'Age': 23, 'GPA': 'A'}\n"
     ]
    }
   ],
   "source": [
    "# Creation de dictionnaire\n",
    "\n",
    "infos_etudiants = {\n",
    "    'Matricule' : '20221235543',\n",
    "    'Nom' : 'KASONGO',\n",
    "    'Prenom' : 'David',\n",
    "    'Age' : 23,\n",
    "    'GPA' : 'A'\n",
    "}\n",
    "\n",
    "print(infos_etudiants)"
   ]
  },
  {
   "cell_type": "code",
   "execution_count": 304,
   "id": "c7212d72-99e8-4869-815d-9251cfc2170a",
   "metadata": {
    "tags": []
   },
   "outputs": [
    {
     "name": "stdout",
     "output_type": "stream",
     "text": [
      "{'Matricule': ['2022098123', '2022123654', '2022987123', '2022876123', '2022987111', '2022098124', '2022123655', '2022987126', '2022876127', '2022222222'], 'Nom': ['SAMPATWA', 'KATUMBA', 'KIMENYEMBO', 'KALOMBO', 'KALOBO', 'MWENDA', 'HANGI', 'KAYEMBA', 'MAMPUYA', 'STEIN'], 'Prenom': ['Diev', 'Manasse', 'Ketsia', 'Charly', 'Justin', 'ketsia', 'Juliana', 'Patrick', 'Mosche', 'Ronald'], 'Age': [25, 22, 12, 26, 18, 25, 22, 12, 26, 1000], 'GPA': ['A', 'B', 'A', 'C', 'B', 'A', 'B', 'A', 'C', 'A+']}\n"
     ]
    }
   ],
   "source": [
    "infos_tous_les_etudiants = {\n",
    "    'Matricule' : ['2022098123','2022123654','2022987123','2022876123','2022987111','2022098124','2022123655','2022987126','2022876127','2022222222'],\n",
    "    'Nom' : ['SAMPATWA', 'KATUMBA', 'KIMENYEMBO', 'KALOMBO', 'KALOBO', 'MWENDA', 'HANGI', 'KAYEMBA', 'MAMPUYA', 'STEIN'],\n",
    "    'Prenom' : ['Diev', 'Manasse', 'Ketsia', 'Charly', 'Justin', 'ketsia', 'Juliana', 'Patrick', 'Mosche', 'Ronald'],\n",
    "    'Age' : [25, 22, 12, 26, 18, 25, 22, 12, 26, 1000],\n",
    "    'GPA' : ['A', 'B', 'A', 'C', 'B', 'A', 'B', 'A', 'C', 'A+']\n",
    "}\n",
    "\n",
    "print(infos_tous_les_etudiants)"
   ]
  },
  {
   "cell_type": "code",
   "execution_count": 305,
   "id": "b19545cd-1bf1-4f40-8e6e-83a65b590d56",
   "metadata": {
    "tags": []
   },
   "outputs": [],
   "source": [
    "# Pandas"
   ]
  },
  {
   "cell_type": "code",
   "execution_count": 306,
   "id": "b8bed210-3062-477c-8748-72375f2faf4a",
   "metadata": {
    "tags": []
   },
   "outputs": [
    {
     "data": {
      "text/html": [
       "<div>\n",
       "<style scoped>\n",
       "    .dataframe tbody tr th:only-of-type {\n",
       "        vertical-align: middle;\n",
       "    }\n",
       "\n",
       "    .dataframe tbody tr th {\n",
       "        vertical-align: top;\n",
       "    }\n",
       "\n",
       "    .dataframe thead th {\n",
       "        text-align: right;\n",
       "    }\n",
       "</style>\n",
       "<table border=\"1\" class=\"dataframe\">\n",
       "  <thead>\n",
       "    <tr style=\"text-align: right;\">\n",
       "      <th></th>\n",
       "      <th>Matricule</th>\n",
       "      <th>Nom</th>\n",
       "      <th>Prenom</th>\n",
       "      <th>Age</th>\n",
       "      <th>GPA</th>\n",
       "    </tr>\n",
       "  </thead>\n",
       "  <tbody>\n",
       "    <tr>\n",
       "      <th>0</th>\n",
       "      <td>2022098123</td>\n",
       "      <td>SAMPATWA</td>\n",
       "      <td>Diev</td>\n",
       "      <td>25</td>\n",
       "      <td>A</td>\n",
       "    </tr>\n",
       "    <tr>\n",
       "      <th>1</th>\n",
       "      <td>2022123654</td>\n",
       "      <td>KATUMBA</td>\n",
       "      <td>Manasse</td>\n",
       "      <td>22</td>\n",
       "      <td>B</td>\n",
       "    </tr>\n",
       "    <tr>\n",
       "      <th>2</th>\n",
       "      <td>2022987123</td>\n",
       "      <td>KIMENYEMBO</td>\n",
       "      <td>Ketsia</td>\n",
       "      <td>12</td>\n",
       "      <td>A</td>\n",
       "    </tr>\n",
       "    <tr>\n",
       "      <th>3</th>\n",
       "      <td>2022876123</td>\n",
       "      <td>KALOMBO</td>\n",
       "      <td>Charly</td>\n",
       "      <td>26</td>\n",
       "      <td>C</td>\n",
       "    </tr>\n",
       "    <tr>\n",
       "      <th>4</th>\n",
       "      <td>2022987111</td>\n",
       "      <td>KALOBO</td>\n",
       "      <td>Justin</td>\n",
       "      <td>18</td>\n",
       "      <td>B</td>\n",
       "    </tr>\n",
       "    <tr>\n",
       "      <th>5</th>\n",
       "      <td>2022098124</td>\n",
       "      <td>MWENDA</td>\n",
       "      <td>ketsia</td>\n",
       "      <td>25</td>\n",
       "      <td>A</td>\n",
       "    </tr>\n",
       "    <tr>\n",
       "      <th>6</th>\n",
       "      <td>2022123655</td>\n",
       "      <td>HANGI</td>\n",
       "      <td>Juliana</td>\n",
       "      <td>22</td>\n",
       "      <td>B</td>\n",
       "    </tr>\n",
       "    <tr>\n",
       "      <th>7</th>\n",
       "      <td>2022987126</td>\n",
       "      <td>KAYEMBA</td>\n",
       "      <td>Patrick</td>\n",
       "      <td>12</td>\n",
       "      <td>A</td>\n",
       "    </tr>\n",
       "    <tr>\n",
       "      <th>8</th>\n",
       "      <td>2022876127</td>\n",
       "      <td>MAMPUYA</td>\n",
       "      <td>Mosche</td>\n",
       "      <td>26</td>\n",
       "      <td>C</td>\n",
       "    </tr>\n",
       "    <tr>\n",
       "      <th>9</th>\n",
       "      <td>2022222222</td>\n",
       "      <td>STEIN</td>\n",
       "      <td>Ronald</td>\n",
       "      <td>1000</td>\n",
       "      <td>A+</td>\n",
       "    </tr>\n",
       "  </tbody>\n",
       "</table>\n",
       "</div>"
      ],
      "text/plain": [
       "    Matricule         Nom   Prenom   Age GPA\n",
       "0  2022098123    SAMPATWA     Diev    25   A\n",
       "1  2022123654     KATUMBA  Manasse    22   B\n",
       "2  2022987123  KIMENYEMBO   Ketsia    12   A\n",
       "3  2022876123     KALOMBO   Charly    26   C\n",
       "4  2022987111      KALOBO   Justin    18   B\n",
       "5  2022098124      MWENDA   ketsia    25   A\n",
       "6  2022123655       HANGI  Juliana    22   B\n",
       "7  2022987126     KAYEMBA  Patrick    12   A\n",
       "8  2022876127     MAMPUYA   Mosche    26   C\n",
       "9  2022222222       STEIN   Ronald  1000  A+"
      ]
     },
     "execution_count": 306,
     "metadata": {},
     "output_type": "execute_result"
    }
   ],
   "source": [
    "donnees_etudiants = pd.DataFrame(infos_tous_les_etudiants)\n",
    "donnees_etudiants"
   ]
  },
  {
   "cell_type": "code",
   "execution_count": 307,
   "id": "2b685ab1-00b4-4ea6-aafe-19f4929c66d4",
   "metadata": {
    "tags": []
   },
   "outputs": [
    {
     "data": {
      "text/html": [
       "<div>\n",
       "<style scoped>\n",
       "    .dataframe tbody tr th:only-of-type {\n",
       "        vertical-align: middle;\n",
       "    }\n",
       "\n",
       "    .dataframe tbody tr th {\n",
       "        vertical-align: top;\n",
       "    }\n",
       "\n",
       "    .dataframe thead th {\n",
       "        text-align: right;\n",
       "    }\n",
       "</style>\n",
       "<table border=\"1\" class=\"dataframe\">\n",
       "  <thead>\n",
       "    <tr style=\"text-align: right;\">\n",
       "      <th></th>\n",
       "      <th>Matricule</th>\n",
       "      <th>Nom</th>\n",
       "      <th>Prenom</th>\n",
       "      <th>Age</th>\n",
       "      <th>GPA</th>\n",
       "    </tr>\n",
       "  </thead>\n",
       "  <tbody>\n",
       "    <tr>\n",
       "      <th>0</th>\n",
       "      <td>2022098123</td>\n",
       "      <td>SAMPATWA</td>\n",
       "      <td>Diev</td>\n",
       "      <td>25</td>\n",
       "      <td>A</td>\n",
       "    </tr>\n",
       "    <tr>\n",
       "      <th>1</th>\n",
       "      <td>2022123654</td>\n",
       "      <td>KATUMBA</td>\n",
       "      <td>Manasse</td>\n",
       "      <td>22</td>\n",
       "      <td>B</td>\n",
       "    </tr>\n",
       "    <tr>\n",
       "      <th>2</th>\n",
       "      <td>2022987123</td>\n",
       "      <td>KIMENYEMBO</td>\n",
       "      <td>Ketsia</td>\n",
       "      <td>12</td>\n",
       "      <td>A</td>\n",
       "    </tr>\n",
       "    <tr>\n",
       "      <th>3</th>\n",
       "      <td>2022876123</td>\n",
       "      <td>KALOMBO</td>\n",
       "      <td>Charly</td>\n",
       "      <td>26</td>\n",
       "      <td>C</td>\n",
       "    </tr>\n",
       "    <tr>\n",
       "      <th>4</th>\n",
       "      <td>2022987111</td>\n",
       "      <td>KALOBO</td>\n",
       "      <td>Justin</td>\n",
       "      <td>18</td>\n",
       "      <td>B</td>\n",
       "    </tr>\n",
       "  </tbody>\n",
       "</table>\n",
       "</div>"
      ],
      "text/plain": [
       "    Matricule         Nom   Prenom  Age GPA\n",
       "0  2022098123    SAMPATWA     Diev   25   A\n",
       "1  2022123654     KATUMBA  Manasse   22   B\n",
       "2  2022987123  KIMENYEMBO   Ketsia   12   A\n",
       "3  2022876123     KALOMBO   Charly   26   C\n",
       "4  2022987111      KALOBO   Justin   18   B"
      ]
     },
     "execution_count": 307,
     "metadata": {},
     "output_type": "execute_result"
    }
   ],
   "source": [
    "# les premiers etudiants dans le dataframe\n",
    "donnees_etudiants.head()"
   ]
  },
  {
   "cell_type": "code",
   "execution_count": 308,
   "id": "dbb8d78f-cd81-4ecf-bfc8-0cf39c7055bf",
   "metadata": {
    "tags": []
   },
   "outputs": [
    {
     "data": {
      "text/html": [
       "<div>\n",
       "<style scoped>\n",
       "    .dataframe tbody tr th:only-of-type {\n",
       "        vertical-align: middle;\n",
       "    }\n",
       "\n",
       "    .dataframe tbody tr th {\n",
       "        vertical-align: top;\n",
       "    }\n",
       "\n",
       "    .dataframe thead th {\n",
       "        text-align: right;\n",
       "    }\n",
       "</style>\n",
       "<table border=\"1\" class=\"dataframe\">\n",
       "  <thead>\n",
       "    <tr style=\"text-align: right;\">\n",
       "      <th></th>\n",
       "      <th>Matricule</th>\n",
       "      <th>Nom</th>\n",
       "      <th>Prenom</th>\n",
       "      <th>Age</th>\n",
       "      <th>GPA</th>\n",
       "    </tr>\n",
       "  </thead>\n",
       "  <tbody>\n",
       "    <tr>\n",
       "      <th>5</th>\n",
       "      <td>2022098124</td>\n",
       "      <td>MWENDA</td>\n",
       "      <td>ketsia</td>\n",
       "      <td>25</td>\n",
       "      <td>A</td>\n",
       "    </tr>\n",
       "    <tr>\n",
       "      <th>6</th>\n",
       "      <td>2022123655</td>\n",
       "      <td>HANGI</td>\n",
       "      <td>Juliana</td>\n",
       "      <td>22</td>\n",
       "      <td>B</td>\n",
       "    </tr>\n",
       "    <tr>\n",
       "      <th>7</th>\n",
       "      <td>2022987126</td>\n",
       "      <td>KAYEMBA</td>\n",
       "      <td>Patrick</td>\n",
       "      <td>12</td>\n",
       "      <td>A</td>\n",
       "    </tr>\n",
       "    <tr>\n",
       "      <th>8</th>\n",
       "      <td>2022876127</td>\n",
       "      <td>MAMPUYA</td>\n",
       "      <td>Mosche</td>\n",
       "      <td>26</td>\n",
       "      <td>C</td>\n",
       "    </tr>\n",
       "    <tr>\n",
       "      <th>9</th>\n",
       "      <td>2022222222</td>\n",
       "      <td>STEIN</td>\n",
       "      <td>Ronald</td>\n",
       "      <td>1000</td>\n",
       "      <td>A+</td>\n",
       "    </tr>\n",
       "  </tbody>\n",
       "</table>\n",
       "</div>"
      ],
      "text/plain": [
       "    Matricule      Nom   Prenom   Age GPA\n",
       "5  2022098124   MWENDA   ketsia    25   A\n",
       "6  2022123655    HANGI  Juliana    22   B\n",
       "7  2022987126  KAYEMBA  Patrick    12   A\n",
       "8  2022876127  MAMPUYA   Mosche    26   C\n",
       "9  2022222222    STEIN   Ronald  1000  A+"
      ]
     },
     "execution_count": 308,
     "metadata": {},
     "output_type": "execute_result"
    }
   ],
   "source": [
    "# Les derniers etudiants dans le dataframe\n",
    "donnees_etudiants.tail()"
   ]
  },
  {
   "cell_type": "code",
   "execution_count": 309,
   "id": "2ff5aa0d-25c4-4d8f-88e5-b7c2e498aeef",
   "metadata": {
    "tags": []
   },
   "outputs": [
    {
     "data": {
      "text/plain": [
       "0    2022098123\n",
       "1    2022123654\n",
       "2    2022987123\n",
       "3    2022876123\n",
       "4    2022987111\n",
       "5    2022098124\n",
       "6    2022123655\n",
       "7    2022987126\n",
       "8    2022876127\n",
       "9    2022222222\n",
       "Name: Matricule, dtype: object"
      ]
     },
     "execution_count": 309,
     "metadata": {},
     "output_type": "execute_result"
    }
   ],
   "source": [
    "# Colones\n",
    "donnees_etudiants['Matricule']"
   ]
  },
  {
   "cell_type": "code",
   "execution_count": 310,
   "id": "c936ec05-338d-46b7-bf82-345bc244aaf2",
   "metadata": {
    "tags": []
   },
   "outputs": [
    {
     "data": {
      "text/html": [
       "<div>\n",
       "<style scoped>\n",
       "    .dataframe tbody tr th:only-of-type {\n",
       "        vertical-align: middle;\n",
       "    }\n",
       "\n",
       "    .dataframe tbody tr th {\n",
       "        vertical-align: top;\n",
       "    }\n",
       "\n",
       "    .dataframe thead th {\n",
       "        text-align: right;\n",
       "    }\n",
       "</style>\n",
       "<table border=\"1\" class=\"dataframe\">\n",
       "  <thead>\n",
       "    <tr style=\"text-align: right;\">\n",
       "      <th></th>\n",
       "      <th>Matricule</th>\n",
       "      <th>Nom</th>\n",
       "    </tr>\n",
       "  </thead>\n",
       "  <tbody>\n",
       "    <tr>\n",
       "      <th>0</th>\n",
       "      <td>2022098123</td>\n",
       "      <td>SAMPATWA</td>\n",
       "    </tr>\n",
       "    <tr>\n",
       "      <th>1</th>\n",
       "      <td>2022123654</td>\n",
       "      <td>KATUMBA</td>\n",
       "    </tr>\n",
       "    <tr>\n",
       "      <th>2</th>\n",
       "      <td>2022987123</td>\n",
       "      <td>KIMENYEMBO</td>\n",
       "    </tr>\n",
       "    <tr>\n",
       "      <th>3</th>\n",
       "      <td>2022876123</td>\n",
       "      <td>KALOMBO</td>\n",
       "    </tr>\n",
       "    <tr>\n",
       "      <th>4</th>\n",
       "      <td>2022987111</td>\n",
       "      <td>KALOBO</td>\n",
       "    </tr>\n",
       "    <tr>\n",
       "      <th>5</th>\n",
       "      <td>2022098124</td>\n",
       "      <td>MWENDA</td>\n",
       "    </tr>\n",
       "    <tr>\n",
       "      <th>6</th>\n",
       "      <td>2022123655</td>\n",
       "      <td>HANGI</td>\n",
       "    </tr>\n",
       "    <tr>\n",
       "      <th>7</th>\n",
       "      <td>2022987126</td>\n",
       "      <td>KAYEMBA</td>\n",
       "    </tr>\n",
       "    <tr>\n",
       "      <th>8</th>\n",
       "      <td>2022876127</td>\n",
       "      <td>MAMPUYA</td>\n",
       "    </tr>\n",
       "    <tr>\n",
       "      <th>9</th>\n",
       "      <td>2022222222</td>\n",
       "      <td>STEIN</td>\n",
       "    </tr>\n",
       "  </tbody>\n",
       "</table>\n",
       "</div>"
      ],
      "text/plain": [
       "    Matricule         Nom\n",
       "0  2022098123    SAMPATWA\n",
       "1  2022123654     KATUMBA\n",
       "2  2022987123  KIMENYEMBO\n",
       "3  2022876123     KALOMBO\n",
       "4  2022987111      KALOBO\n",
       "5  2022098124      MWENDA\n",
       "6  2022123655       HANGI\n",
       "7  2022987126     KAYEMBA\n",
       "8  2022876127     MAMPUYA\n",
       "9  2022222222       STEIN"
      ]
     },
     "execution_count": 310,
     "metadata": {},
     "output_type": "execute_result"
    }
   ],
   "source": [
    "# Deux colones\n",
    "donnees_etudiants[['Matricule', 'Nom']]"
   ]
  },
  {
   "cell_type": "code",
   "execution_count": 311,
   "id": "ab5d8bc4-be70-4fe5-ac72-8d0807855532",
   "metadata": {
    "tags": []
   },
   "outputs": [
    {
     "data": {
      "text/html": [
       "<div>\n",
       "<style scoped>\n",
       "    .dataframe tbody tr th:only-of-type {\n",
       "        vertical-align: middle;\n",
       "    }\n",
       "\n",
       "    .dataframe tbody tr th {\n",
       "        vertical-align: top;\n",
       "    }\n",
       "\n",
       "    .dataframe thead th {\n",
       "        text-align: right;\n",
       "    }\n",
       "</style>\n",
       "<table border=\"1\" class=\"dataframe\">\n",
       "  <thead>\n",
       "    <tr style=\"text-align: right;\">\n",
       "      <th></th>\n",
       "      <th>Matricule</th>\n",
       "      <th>Nom</th>\n",
       "      <th>Prenom</th>\n",
       "      <th>Age</th>\n",
       "      <th>GPA</th>\n",
       "    </tr>\n",
       "  </thead>\n",
       "  <tbody>\n",
       "    <tr>\n",
       "      <th>3</th>\n",
       "      <td>2022876123</td>\n",
       "      <td>KALOMBO</td>\n",
       "      <td>Charly</td>\n",
       "      <td>26</td>\n",
       "      <td>C</td>\n",
       "    </tr>\n",
       "  </tbody>\n",
       "</table>\n",
       "</div>"
      ],
      "text/plain": [
       "    Matricule      Nom  Prenom  Age GPA\n",
       "3  2022876123  KALOMBO  Charly   26   C"
      ]
     },
     "execution_count": 311,
     "metadata": {},
     "output_type": "execute_result"
    }
   ],
   "source": [
    "# l'etudiant KALOMBO\n",
    "donnees_etudiants.iloc[3:4, :]"
   ]
  },
  {
   "cell_type": "code",
   "execution_count": 312,
   "id": "484ce687-469a-4d82-9339-0dcef6edf5ce",
   "metadata": {
    "tags": []
   },
   "outputs": [
    {
     "data": {
      "text/html": [
       "<div>\n",
       "<style scoped>\n",
       "    .dataframe tbody tr th:only-of-type {\n",
       "        vertical-align: middle;\n",
       "    }\n",
       "\n",
       "    .dataframe tbody tr th {\n",
       "        vertical-align: top;\n",
       "    }\n",
       "\n",
       "    .dataframe thead th {\n",
       "        text-align: right;\n",
       "    }\n",
       "</style>\n",
       "<table border=\"1\" class=\"dataframe\">\n",
       "  <thead>\n",
       "    <tr style=\"text-align: right;\">\n",
       "      <th></th>\n",
       "      <th>Age</th>\n",
       "    </tr>\n",
       "  </thead>\n",
       "  <tbody>\n",
       "    <tr>\n",
       "      <th>0</th>\n",
       "      <td>25</td>\n",
       "    </tr>\n",
       "    <tr>\n",
       "      <th>1</th>\n",
       "      <td>22</td>\n",
       "    </tr>\n",
       "    <tr>\n",
       "      <th>2</th>\n",
       "      <td>12</td>\n",
       "    </tr>\n",
       "    <tr>\n",
       "      <th>3</th>\n",
       "      <td>26</td>\n",
       "    </tr>\n",
       "    <tr>\n",
       "      <th>4</th>\n",
       "      <td>18</td>\n",
       "    </tr>\n",
       "    <tr>\n",
       "      <th>5</th>\n",
       "      <td>25</td>\n",
       "    </tr>\n",
       "    <tr>\n",
       "      <th>6</th>\n",
       "      <td>22</td>\n",
       "    </tr>\n",
       "    <tr>\n",
       "      <th>7</th>\n",
       "      <td>12</td>\n",
       "    </tr>\n",
       "    <tr>\n",
       "      <th>8</th>\n",
       "      <td>26</td>\n",
       "    </tr>\n",
       "    <tr>\n",
       "      <th>9</th>\n",
       "      <td>1000</td>\n",
       "    </tr>\n",
       "  </tbody>\n",
       "</table>\n",
       "</div>"
      ],
      "text/plain": [
       "    Age\n",
       "0    25\n",
       "1    22\n",
       "2    12\n",
       "3    26\n",
       "4    18\n",
       "5    25\n",
       "6    22\n",
       "7    12\n",
       "8    26\n",
       "9  1000"
      ]
     },
     "execution_count": 312,
     "metadata": {},
     "output_type": "execute_result"
    }
   ],
   "source": [
    "# La colones 'Age'\n",
    "donnees_etudiants.iloc[:, 3:4]"
   ]
  },
  {
   "cell_type": "code",
   "execution_count": 313,
   "id": "d50dbae4-4f51-43c5-90fb-b59b139bbdae",
   "metadata": {
    "tags": []
   },
   "outputs": [
    {
     "data": {
      "text/plain": [
       "0     A\n",
       "1     B\n",
       "2     A\n",
       "3     C\n",
       "4     B\n",
       "5     A\n",
       "6     B\n",
       "7     A\n",
       "8     C\n",
       "9    A+\n",
       "Name: GPA, dtype: object"
      ]
     },
     "execution_count": 313,
     "metadata": {},
     "output_type": "execute_result"
    }
   ],
   "source": [
    "# Derniere colone\n",
    "donnees_etudiants.iloc[:, -1]"
   ]
  },
  {
   "cell_type": "code",
   "execution_count": 314,
   "id": "8956685b-1361-4ade-90d2-095075b7ab6b",
   "metadata": {
    "tags": []
   },
   "outputs": [
    {
     "data": {
      "text/html": [
       "<div>\n",
       "<style scoped>\n",
       "    .dataframe tbody tr th:only-of-type {\n",
       "        vertical-align: middle;\n",
       "    }\n",
       "\n",
       "    .dataframe tbody tr th {\n",
       "        vertical-align: top;\n",
       "    }\n",
       "\n",
       "    .dataframe thead th {\n",
       "        text-align: right;\n",
       "    }\n",
       "</style>\n",
       "<table border=\"1\" class=\"dataframe\">\n",
       "  <thead>\n",
       "    <tr style=\"text-align: right;\">\n",
       "      <th></th>\n",
       "      <th>Matricule</th>\n",
       "      <th>Nom</th>\n",
       "      <th>Prenom</th>\n",
       "      <th>Age</th>\n",
       "      <th>GPA</th>\n",
       "      <th>Genre</th>\n",
       "    </tr>\n",
       "  </thead>\n",
       "  <tbody>\n",
       "    <tr>\n",
       "      <th>0</th>\n",
       "      <td>2022098123</td>\n",
       "      <td>SAMPATWA</td>\n",
       "      <td>Diev</td>\n",
       "      <td>25</td>\n",
       "      <td>A</td>\n",
       "      <td>M</td>\n",
       "    </tr>\n",
       "    <tr>\n",
       "      <th>1</th>\n",
       "      <td>2022123654</td>\n",
       "      <td>KATUMBA</td>\n",
       "      <td>Manasse</td>\n",
       "      <td>22</td>\n",
       "      <td>B</td>\n",
       "      <td>M</td>\n",
       "    </tr>\n",
       "    <tr>\n",
       "      <th>2</th>\n",
       "      <td>2022987123</td>\n",
       "      <td>KIMENYEMBO</td>\n",
       "      <td>Ketsia</td>\n",
       "      <td>12</td>\n",
       "      <td>A</td>\n",
       "      <td>F</td>\n",
       "    </tr>\n",
       "    <tr>\n",
       "      <th>3</th>\n",
       "      <td>2022876123</td>\n",
       "      <td>KALOMBO</td>\n",
       "      <td>Charly</td>\n",
       "      <td>26</td>\n",
       "      <td>C</td>\n",
       "      <td>M</td>\n",
       "    </tr>\n",
       "    <tr>\n",
       "      <th>4</th>\n",
       "      <td>2022987111</td>\n",
       "      <td>KALOBO</td>\n",
       "      <td>Justin</td>\n",
       "      <td>18</td>\n",
       "      <td>B</td>\n",
       "      <td>M</td>\n",
       "    </tr>\n",
       "    <tr>\n",
       "      <th>5</th>\n",
       "      <td>2022098124</td>\n",
       "      <td>MWENDA</td>\n",
       "      <td>ketsia</td>\n",
       "      <td>25</td>\n",
       "      <td>A</td>\n",
       "      <td>F</td>\n",
       "    </tr>\n",
       "    <tr>\n",
       "      <th>6</th>\n",
       "      <td>2022123655</td>\n",
       "      <td>HANGI</td>\n",
       "      <td>Juliana</td>\n",
       "      <td>22</td>\n",
       "      <td>B</td>\n",
       "      <td>F</td>\n",
       "    </tr>\n",
       "    <tr>\n",
       "      <th>7</th>\n",
       "      <td>2022987126</td>\n",
       "      <td>KAYEMBA</td>\n",
       "      <td>Patrick</td>\n",
       "      <td>12</td>\n",
       "      <td>A</td>\n",
       "      <td>M</td>\n",
       "    </tr>\n",
       "    <tr>\n",
       "      <th>8</th>\n",
       "      <td>2022876127</td>\n",
       "      <td>MAMPUYA</td>\n",
       "      <td>Mosche</td>\n",
       "      <td>26</td>\n",
       "      <td>C</td>\n",
       "      <td>M</td>\n",
       "    </tr>\n",
       "    <tr>\n",
       "      <th>9</th>\n",
       "      <td>2022222222</td>\n",
       "      <td>STEIN</td>\n",
       "      <td>Ronald</td>\n",
       "      <td>1000</td>\n",
       "      <td>A+</td>\n",
       "      <td>M</td>\n",
       "    </tr>\n",
       "  </tbody>\n",
       "</table>\n",
       "</div>"
      ],
      "text/plain": [
       "    Matricule         Nom   Prenom   Age GPA Genre\n",
       "0  2022098123    SAMPATWA     Diev    25   A     M\n",
       "1  2022123654     KATUMBA  Manasse    22   B     M\n",
       "2  2022987123  KIMENYEMBO   Ketsia    12   A     F\n",
       "3  2022876123     KALOMBO   Charly    26   C     M\n",
       "4  2022987111      KALOBO   Justin    18   B     M\n",
       "5  2022098124      MWENDA   ketsia    25   A     F\n",
       "6  2022123655       HANGI  Juliana    22   B     F\n",
       "7  2022987126     KAYEMBA  Patrick    12   A     M\n",
       "8  2022876127     MAMPUYA   Mosche    26   C     M\n",
       "9  2022222222       STEIN   Ronald  1000  A+     M"
      ]
     },
     "execution_count": 314,
     "metadata": {},
     "output_type": "execute_result"
    }
   ],
   "source": [
    "# Ajouter une colone\n",
    "donnees_etudiants['Genre'] = ['M','M','F','M','M','F','F','M','M','M']\n",
    "donnees_etudiants"
   ]
  },
  {
   "cell_type": "code",
   "execution_count": 315,
   "id": "b81198ac-91fd-4d18-bd68-4ffcfdcfe6ed",
   "metadata": {
    "tags": []
   },
   "outputs": [
    {
     "data": {
      "text/html": [
       "<div>\n",
       "<style scoped>\n",
       "    .dataframe tbody tr th:only-of-type {\n",
       "        vertical-align: middle;\n",
       "    }\n",
       "\n",
       "    .dataframe tbody tr th {\n",
       "        vertical-align: top;\n",
       "    }\n",
       "\n",
       "    .dataframe thead th {\n",
       "        text-align: right;\n",
       "    }\n",
       "</style>\n",
       "<table border=\"1\" class=\"dataframe\">\n",
       "  <thead>\n",
       "    <tr style=\"text-align: right;\">\n",
       "      <th></th>\n",
       "      <th>Matricule</th>\n",
       "      <th>Nom</th>\n",
       "      <th>Prenom</th>\n",
       "      <th>Age</th>\n",
       "      <th>GPA</th>\n",
       "      <th>Genre</th>\n",
       "      <th>Pourcentage</th>\n",
       "    </tr>\n",
       "  </thead>\n",
       "  <tbody>\n",
       "    <tr>\n",
       "      <th>0</th>\n",
       "      <td>2022098123</td>\n",
       "      <td>SAMPATWA</td>\n",
       "      <td>Diev</td>\n",
       "      <td>25</td>\n",
       "      <td>A</td>\n",
       "      <td>M</td>\n",
       "      <td>60</td>\n",
       "    </tr>\n",
       "    <tr>\n",
       "      <th>1</th>\n",
       "      <td>2022123654</td>\n",
       "      <td>KATUMBA</td>\n",
       "      <td>Manasse</td>\n",
       "      <td>22</td>\n",
       "      <td>B</td>\n",
       "      <td>M</td>\n",
       "      <td>70</td>\n",
       "    </tr>\n",
       "    <tr>\n",
       "      <th>2</th>\n",
       "      <td>2022987123</td>\n",
       "      <td>KIMENYEMBO</td>\n",
       "      <td>Ketsia</td>\n",
       "      <td>12</td>\n",
       "      <td>A</td>\n",
       "      <td>F</td>\n",
       "      <td>72</td>\n",
       "    </tr>\n",
       "    <tr>\n",
       "      <th>3</th>\n",
       "      <td>2022876123</td>\n",
       "      <td>KALOMBO</td>\n",
       "      <td>Charly</td>\n",
       "      <td>26</td>\n",
       "      <td>C</td>\n",
       "      <td>M</td>\n",
       "      <td>78</td>\n",
       "    </tr>\n",
       "    <tr>\n",
       "      <th>4</th>\n",
       "      <td>2022987111</td>\n",
       "      <td>KALOBO</td>\n",
       "      <td>Justin</td>\n",
       "      <td>18</td>\n",
       "      <td>B</td>\n",
       "      <td>M</td>\n",
       "      <td>75</td>\n",
       "    </tr>\n",
       "    <tr>\n",
       "      <th>5</th>\n",
       "      <td>2022098124</td>\n",
       "      <td>MWENDA</td>\n",
       "      <td>ketsia</td>\n",
       "      <td>25</td>\n",
       "      <td>A</td>\n",
       "      <td>F</td>\n",
       "      <td>40</td>\n",
       "    </tr>\n",
       "    <tr>\n",
       "      <th>6</th>\n",
       "      <td>2022123655</td>\n",
       "      <td>HANGI</td>\n",
       "      <td>Juliana</td>\n",
       "      <td>22</td>\n",
       "      <td>B</td>\n",
       "      <td>F</td>\n",
       "      <td>54</td>\n",
       "    </tr>\n",
       "    <tr>\n",
       "      <th>7</th>\n",
       "      <td>2022987126</td>\n",
       "      <td>KAYEMBA</td>\n",
       "      <td>Patrick</td>\n",
       "      <td>12</td>\n",
       "      <td>A</td>\n",
       "      <td>M</td>\n",
       "      <td>82</td>\n",
       "    </tr>\n",
       "    <tr>\n",
       "      <th>8</th>\n",
       "      <td>2022876127</td>\n",
       "      <td>MAMPUYA</td>\n",
       "      <td>Mosche</td>\n",
       "      <td>26</td>\n",
       "      <td>C</td>\n",
       "      <td>M</td>\n",
       "      <td>63</td>\n",
       "    </tr>\n",
       "    <tr>\n",
       "      <th>9</th>\n",
       "      <td>2022222222</td>\n",
       "      <td>STEIN</td>\n",
       "      <td>Ronald</td>\n",
       "      <td>1000</td>\n",
       "      <td>A+</td>\n",
       "      <td>M</td>\n",
       "      <td>92</td>\n",
       "    </tr>\n",
       "  </tbody>\n",
       "</table>\n",
       "</div>"
      ],
      "text/plain": [
       "    Matricule         Nom   Prenom   Age GPA Genre  Pourcentage\n",
       "0  2022098123    SAMPATWA     Diev    25   A     M           60\n",
       "1  2022123654     KATUMBA  Manasse    22   B     M           70\n",
       "2  2022987123  KIMENYEMBO   Ketsia    12   A     F           72\n",
       "3  2022876123     KALOMBO   Charly    26   C     M           78\n",
       "4  2022987111      KALOBO   Justin    18   B     M           75\n",
       "5  2022098124      MWENDA   ketsia    25   A     F           40\n",
       "6  2022123655       HANGI  Juliana    22   B     F           54\n",
       "7  2022987126     KAYEMBA  Patrick    12   A     M           82\n",
       "8  2022876127     MAMPUYA   Mosche    26   C     M           63\n",
       "9  2022222222       STEIN   Ronald  1000  A+     M           92"
      ]
     },
     "execution_count": 315,
     "metadata": {},
     "output_type": "execute_result"
    }
   ],
   "source": [
    "# Ajouter la colone Pourcentage\n",
    "donnees_etudiants['Pourcentage'] = [60, 70, 72, 78, 75, 40, 54, 82, 63, 92]\n",
    "donnees_etudiants"
   ]
  },
  {
   "cell_type": "code",
   "execution_count": 316,
   "id": "5f2be0cc-901a-499b-9bc2-cde16b6f6174",
   "metadata": {
    "tags": []
   },
   "outputs": [
    {
     "data": {
      "text/html": [
       "<div>\n",
       "<style scoped>\n",
       "    .dataframe tbody tr th:only-of-type {\n",
       "        vertical-align: middle;\n",
       "    }\n",
       "\n",
       "    .dataframe tbody tr th {\n",
       "        vertical-align: top;\n",
       "    }\n",
       "\n",
       "    .dataframe thead th {\n",
       "        text-align: right;\n",
       "    }\n",
       "</style>\n",
       "<table border=\"1\" class=\"dataframe\">\n",
       "  <thead>\n",
       "    <tr style=\"text-align: right;\">\n",
       "      <th></th>\n",
       "      <th>Matricule</th>\n",
       "      <th>Nom</th>\n",
       "      <th>Prenom</th>\n",
       "      <th>Age</th>\n",
       "      <th>Genre</th>\n",
       "      <th>Pourcentage</th>\n",
       "    </tr>\n",
       "  </thead>\n",
       "  <tbody>\n",
       "    <tr>\n",
       "      <th>0</th>\n",
       "      <td>2022098123</td>\n",
       "      <td>SAMPATWA</td>\n",
       "      <td>Diev</td>\n",
       "      <td>25</td>\n",
       "      <td>M</td>\n",
       "      <td>60</td>\n",
       "    </tr>\n",
       "    <tr>\n",
       "      <th>1</th>\n",
       "      <td>2022123654</td>\n",
       "      <td>KATUMBA</td>\n",
       "      <td>Manasse</td>\n",
       "      <td>22</td>\n",
       "      <td>M</td>\n",
       "      <td>70</td>\n",
       "    </tr>\n",
       "    <tr>\n",
       "      <th>2</th>\n",
       "      <td>2022987123</td>\n",
       "      <td>KIMENYEMBO</td>\n",
       "      <td>Ketsia</td>\n",
       "      <td>12</td>\n",
       "      <td>F</td>\n",
       "      <td>72</td>\n",
       "    </tr>\n",
       "    <tr>\n",
       "      <th>3</th>\n",
       "      <td>2022876123</td>\n",
       "      <td>KALOMBO</td>\n",
       "      <td>Charly</td>\n",
       "      <td>26</td>\n",
       "      <td>M</td>\n",
       "      <td>78</td>\n",
       "    </tr>\n",
       "    <tr>\n",
       "      <th>4</th>\n",
       "      <td>2022987111</td>\n",
       "      <td>KALOBO</td>\n",
       "      <td>Justin</td>\n",
       "      <td>18</td>\n",
       "      <td>M</td>\n",
       "      <td>75</td>\n",
       "    </tr>\n",
       "    <tr>\n",
       "      <th>5</th>\n",
       "      <td>2022098124</td>\n",
       "      <td>MWENDA</td>\n",
       "      <td>ketsia</td>\n",
       "      <td>25</td>\n",
       "      <td>F</td>\n",
       "      <td>40</td>\n",
       "    </tr>\n",
       "    <tr>\n",
       "      <th>6</th>\n",
       "      <td>2022123655</td>\n",
       "      <td>HANGI</td>\n",
       "      <td>Juliana</td>\n",
       "      <td>22</td>\n",
       "      <td>F</td>\n",
       "      <td>54</td>\n",
       "    </tr>\n",
       "    <tr>\n",
       "      <th>7</th>\n",
       "      <td>2022987126</td>\n",
       "      <td>KAYEMBA</td>\n",
       "      <td>Patrick</td>\n",
       "      <td>12</td>\n",
       "      <td>M</td>\n",
       "      <td>82</td>\n",
       "    </tr>\n",
       "    <tr>\n",
       "      <th>8</th>\n",
       "      <td>2022876127</td>\n",
       "      <td>MAMPUYA</td>\n",
       "      <td>Mosche</td>\n",
       "      <td>26</td>\n",
       "      <td>M</td>\n",
       "      <td>63</td>\n",
       "    </tr>\n",
       "    <tr>\n",
       "      <th>9</th>\n",
       "      <td>2022222222</td>\n",
       "      <td>STEIN</td>\n",
       "      <td>Ronald</td>\n",
       "      <td>1000</td>\n",
       "      <td>M</td>\n",
       "      <td>92</td>\n",
       "    </tr>\n",
       "  </tbody>\n",
       "</table>\n",
       "</div>"
      ],
      "text/plain": [
       "    Matricule         Nom   Prenom   Age Genre  Pourcentage\n",
       "0  2022098123    SAMPATWA     Diev    25     M           60\n",
       "1  2022123654     KATUMBA  Manasse    22     M           70\n",
       "2  2022987123  KIMENYEMBO   Ketsia    12     F           72\n",
       "3  2022876123     KALOMBO   Charly    26     M           78\n",
       "4  2022987111      KALOBO   Justin    18     M           75\n",
       "5  2022098124      MWENDA   ketsia    25     F           40\n",
       "6  2022123655       HANGI  Juliana    22     F           54\n",
       "7  2022987126     KAYEMBA  Patrick    12     M           82\n",
       "8  2022876127     MAMPUYA   Mosche    26     M           63\n",
       "9  2022222222       STEIN   Ronald  1000     M           92"
      ]
     },
     "execution_count": 316,
     "metadata": {},
     "output_type": "execute_result"
    }
   ],
   "source": [
    "## Supprimer la colone 'GPA'\n",
    "# donnees_etudiants.drop(columns='GPA')\n",
    "\n",
    "donnees_etudiants.drop(columns='GPA', inplace=True, axis=1)\n",
    "donnees_etudiants\n",
    "\n",
    "# inplace: necessaire pour confirmer la suppression"
   ]
  },
  {
   "cell_type": "code",
   "execution_count": 317,
   "id": "da67cb62-4092-4c95-b57f-479bda356e8a",
   "metadata": {
    "tags": []
   },
   "outputs": [],
   "source": [
    "## Convertir la colone genre en M:1 et F:0\n",
    "# 1. Premiere methode : avec 'map'\n",
    "# Mapping_genre = {\n",
    "#    'M' : 1,\n",
    "#    'F' : 0\n",
    "# }\n",
    "\n",
    "# donnees_etudiants['Genre'] = donnees_etudiants['Genre'].map(Mapping_genre)\n",
    "\n",
    "# 2. Deuxieme methode \n",
    "\n",
    "donnees_etudiants['Genre'] = np.where(donnees_etudiants['Genre'] == 'M', 1, 0)"
   ]
  },
  {
   "cell_type": "code",
   "execution_count": 318,
   "id": "be5ff83e-5937-45a3-a698-9cb8cd9de98a",
   "metadata": {
    "tags": []
   },
   "outputs": [
    {
     "data": {
      "text/html": [
       "<div>\n",
       "<style scoped>\n",
       "    .dataframe tbody tr th:only-of-type {\n",
       "        vertical-align: middle;\n",
       "    }\n",
       "\n",
       "    .dataframe tbody tr th {\n",
       "        vertical-align: top;\n",
       "    }\n",
       "\n",
       "    .dataframe thead th {\n",
       "        text-align: right;\n",
       "    }\n",
       "</style>\n",
       "<table border=\"1\" class=\"dataframe\">\n",
       "  <thead>\n",
       "    <tr style=\"text-align: right;\">\n",
       "      <th></th>\n",
       "      <th>Matricule</th>\n",
       "      <th>Nom</th>\n",
       "      <th>Prenom</th>\n",
       "      <th>Age</th>\n",
       "      <th>Genre</th>\n",
       "      <th>Pourcentage</th>\n",
       "    </tr>\n",
       "  </thead>\n",
       "  <tbody>\n",
       "    <tr>\n",
       "      <th>0</th>\n",
       "      <td>2022098123</td>\n",
       "      <td>SAMPATWA</td>\n",
       "      <td>Diev</td>\n",
       "      <td>25</td>\n",
       "      <td>1</td>\n",
       "      <td>60</td>\n",
       "    </tr>\n",
       "    <tr>\n",
       "      <th>1</th>\n",
       "      <td>2022123654</td>\n",
       "      <td>KATUMBA</td>\n",
       "      <td>Manasse</td>\n",
       "      <td>22</td>\n",
       "      <td>1</td>\n",
       "      <td>70</td>\n",
       "    </tr>\n",
       "    <tr>\n",
       "      <th>2</th>\n",
       "      <td>2022987123</td>\n",
       "      <td>KIMENYEMBO</td>\n",
       "      <td>Ketsia</td>\n",
       "      <td>12</td>\n",
       "      <td>0</td>\n",
       "      <td>72</td>\n",
       "    </tr>\n",
       "    <tr>\n",
       "      <th>3</th>\n",
       "      <td>2022876123</td>\n",
       "      <td>KALOMBO</td>\n",
       "      <td>Charly</td>\n",
       "      <td>26</td>\n",
       "      <td>1</td>\n",
       "      <td>78</td>\n",
       "    </tr>\n",
       "    <tr>\n",
       "      <th>4</th>\n",
       "      <td>2022987111</td>\n",
       "      <td>KALOBO</td>\n",
       "      <td>Justin</td>\n",
       "      <td>18</td>\n",
       "      <td>1</td>\n",
       "      <td>75</td>\n",
       "    </tr>\n",
       "    <tr>\n",
       "      <th>5</th>\n",
       "      <td>2022098124</td>\n",
       "      <td>MWENDA</td>\n",
       "      <td>ketsia</td>\n",
       "      <td>25</td>\n",
       "      <td>0</td>\n",
       "      <td>40</td>\n",
       "    </tr>\n",
       "    <tr>\n",
       "      <th>6</th>\n",
       "      <td>2022123655</td>\n",
       "      <td>HANGI</td>\n",
       "      <td>Juliana</td>\n",
       "      <td>22</td>\n",
       "      <td>0</td>\n",
       "      <td>54</td>\n",
       "    </tr>\n",
       "    <tr>\n",
       "      <th>7</th>\n",
       "      <td>2022987126</td>\n",
       "      <td>KAYEMBA</td>\n",
       "      <td>Patrick</td>\n",
       "      <td>12</td>\n",
       "      <td>1</td>\n",
       "      <td>82</td>\n",
       "    </tr>\n",
       "    <tr>\n",
       "      <th>8</th>\n",
       "      <td>2022876127</td>\n",
       "      <td>MAMPUYA</td>\n",
       "      <td>Mosche</td>\n",
       "      <td>26</td>\n",
       "      <td>1</td>\n",
       "      <td>63</td>\n",
       "    </tr>\n",
       "    <tr>\n",
       "      <th>9</th>\n",
       "      <td>2022222222</td>\n",
       "      <td>STEIN</td>\n",
       "      <td>Ronald</td>\n",
       "      <td>1000</td>\n",
       "      <td>1</td>\n",
       "      <td>92</td>\n",
       "    </tr>\n",
       "  </tbody>\n",
       "</table>\n",
       "</div>"
      ],
      "text/plain": [
       "    Matricule         Nom   Prenom   Age  Genre  Pourcentage\n",
       "0  2022098123    SAMPATWA     Diev    25      1           60\n",
       "1  2022123654     KATUMBA  Manasse    22      1           70\n",
       "2  2022987123  KIMENYEMBO   Ketsia    12      0           72\n",
       "3  2022876123     KALOMBO   Charly    26      1           78\n",
       "4  2022987111      KALOBO   Justin    18      1           75\n",
       "5  2022098124      MWENDA   ketsia    25      0           40\n",
       "6  2022123655       HANGI  Juliana    22      0           54\n",
       "7  2022987126     KAYEMBA  Patrick    12      1           82\n",
       "8  2022876127     MAMPUYA   Mosche    26      1           63\n",
       "9  2022222222       STEIN   Ronald  1000      1           92"
      ]
     },
     "execution_count": 318,
     "metadata": {},
     "output_type": "execute_result"
    }
   ],
   "source": [
    "donnees_etudiants"
   ]
  },
  {
   "cell_type": "markdown",
   "id": "fb3c188c-39f3-45e8-956c-8ad48df2edc6",
   "metadata": {},
   "source": [
    "# D. Visualisation"
   ]
  },
  {
   "cell_type": "markdown",
   "id": "22c6e7e9-c9f5-443a-bb38-4cdc2131bd73",
   "metadata": {},
   "source": [
    "## Matplotlib"
   ]
  },
  {
   "cell_type": "code",
   "execution_count": 319,
   "id": "7f87ff91-7d27-42fb-bb05-7bef945235fb",
   "metadata": {
    "tags": []
   },
   "outputs": [
    {
     "data": {
      "text/plain": [
       "array([0.        , 0.04081633, 0.08163265, 0.12244898, 0.16326531,\n",
       "       0.20408163, 0.24489796, 0.28571429, 0.32653061, 0.36734694,\n",
       "       0.40816327, 0.44897959, 0.48979592, 0.53061224, 0.57142857,\n",
       "       0.6122449 , 0.65306122, 0.69387755, 0.73469388, 0.7755102 ,\n",
       "       0.81632653, 0.85714286, 0.89795918, 0.93877551, 0.97959184,\n",
       "       1.02040816, 1.06122449, 1.10204082, 1.14285714, 1.18367347,\n",
       "       1.2244898 , 1.26530612, 1.30612245, 1.34693878, 1.3877551 ,\n",
       "       1.42857143, 1.46938776, 1.51020408, 1.55102041, 1.59183673,\n",
       "       1.63265306, 1.67346939, 1.71428571, 1.75510204, 1.79591837,\n",
       "       1.83673469, 1.87755102, 1.91836735, 1.95918367, 2.        ])"
      ]
     },
     "execution_count": 319,
     "metadata": {},
     "output_type": "execute_result"
    }
   ],
   "source": [
    "# Creation de donnees\n",
    "X = np.linspace(0, 2, 50)\n",
    "X"
   ]
  },
  {
   "cell_type": "code",
   "execution_count": 320,
   "id": "696caccd-58c2-4de6-bb74-d5018cf5a17a",
   "metadata": {},
   "outputs": [
    {
     "data": {
      "text/plain": [
       "<matplotlib.legend.Legend at 0x2bd1e97ccd0>"
      ]
     },
     "execution_count": 320,
     "metadata": {},
     "output_type": "execute_result"
    },
    {
     "data": {
      "image/png": "[encoded data removed]",
      "text/plain": [
       "<Figure size 600x400 with 1 Axes>"
      ]
     },
     "metadata": {},
     "output_type": "display_data"
    }
   ],
   "source": [
    "fig, ax = plt.subplots(figsize=(6,4))\n",
    "ax.plot(X, X*2, label= 'Carre')\n",
    "ax.plot(X, X**2, label='Carre de X')\n",
    "ax.plot(X, X**3, label= 'Cube de X')\n",
    "ax.set_xlabel('Donnees de X')\n",
    "ax.set_xlabel('Donnees de Y')\n",
    "plt.title('Donnees de linspace entre 0 et 2')\n",
    "ax.legend()\n"
   ]
  },
  {
   "cell_type": "markdown",
   "id": "1618ff95-00d7-4aa4-ad59-9973ed33251d",
   "metadata": {},
   "source": [
    "## Seaborn"
   ]
  },
  {
   "cell_type": "code",
   "execution_count": 321,
   "id": "7b3c83e3-c486-492c-aacb-51532bc1a2eb",
   "metadata": {
    "tags": []
   },
   "outputs": [
    {
     "data": {
      "text/html": [
       "<div>\n",
       "<style scoped>\n",
       "    .dataframe tbody tr th:only-of-type {\n",
       "        vertical-align: middle;\n",
       "    }\n",
       "\n",
       "    .dataframe tbody tr th {\n",
       "        vertical-align: top;\n",
       "    }\n",
       "\n",
       "    .dataframe thead th {\n",
       "        text-align: right;\n",
       "    }\n",
       "</style>\n",
       "<table border=\"1\" class=\"dataframe\">\n",
       "  <thead>\n",
       "    <tr style=\"text-align: right;\">\n",
       "      <th></th>\n",
       "      <th>sepal_length</th>\n",
       "      <th>sepal_width</th>\n",
       "      <th>petal_length</th>\n",
       "      <th>petal_width</th>\n",
       "      <th>species</th>\n",
       "    </tr>\n",
       "  </thead>\n",
       "  <tbody>\n",
       "    <tr>\n",
       "      <th>0</th>\n",
       "      <td>5.1</td>\n",
       "      <td>3.5</td>\n",
       "      <td>1.4</td>\n",
       "      <td>0.2</td>\n",
       "      <td>setosa</td>\n",
       "    </tr>\n",
       "    <tr>\n",
       "      <th>1</th>\n",
       "      <td>4.9</td>\n",
       "      <td>3.0</td>\n",
       "      <td>1.4</td>\n",
       "      <td>0.2</td>\n",
       "      <td>setosa</td>\n",
       "    </tr>\n",
       "    <tr>\n",
       "      <th>2</th>\n",
       "      <td>4.7</td>\n",
       "      <td>3.2</td>\n",
       "      <td>1.3</td>\n",
       "      <td>0.2</td>\n",
       "      <td>setosa</td>\n",
       "    </tr>\n",
       "    <tr>\n",
       "      <th>3</th>\n",
       "      <td>4.6</td>\n",
       "      <td>3.1</td>\n",
       "      <td>1.5</td>\n",
       "      <td>0.2</td>\n",
       "      <td>setosa</td>\n",
       "    </tr>\n",
       "    <tr>\n",
       "      <th>4</th>\n",
       "      <td>5.0</td>\n",
       "      <td>3.6</td>\n",
       "      <td>1.4</td>\n",
       "      <td>0.2</td>\n",
       "      <td>setosa</td>\n",
       "    </tr>\n",
       "  </tbody>\n",
       "</table>\n",
       "</div>"
      ],
      "text/plain": [
       "   sepal_length  sepal_width  petal_length  petal_width species\n",
       "0           5.1          3.5           1.4          0.2  setosa\n",
       "1           4.9          3.0           1.4          0.2  setosa\n",
       "2           4.7          3.2           1.3          0.2  setosa\n",
       "3           4.6          3.1           1.5          0.2  setosa\n",
       "4           5.0          3.6           1.4          0.2  setosa"
      ]
     },
     "execution_count": 321,
     "metadata": {},
     "output_type": "execute_result"
    }
   ],
   "source": [
    "\n",
    "iris_data = sns.load_dataset('iris')\n",
    "\n",
    "iris_data.head()"
   ]
  },
  {
   "cell_type": "code",
   "execution_count": 322,
   "id": "6e19b73c-2727-4c34-be18-781f4095fbe2",
   "metadata": {
    "tags": []
   },
   "outputs": [
    {
     "data": {
      "text/plain": [
       "(150, 5)"
      ]
     },
     "execution_count": 322,
     "metadata": {},
     "output_type": "execute_result"
    }
   ],
   "source": [
    "# Taille du dataframe\n",
    "iris_data.shape"
   ]
  },
  {
   "cell_type": "code",
   "execution_count": 323,
   "id": "d8fc83d3-e2e0-4f92-b35d-ccf0c3eaf269",
   "metadata": {
    "tags": []
   },
   "outputs": [
    {
     "data": {
      "text/plain": [
       "array(['setosa', 'versicolor', 'virginica'], dtype=object)"
      ]
     },
     "execution_count": 323,
     "metadata": {},
     "output_type": "execute_result"
    }
   ],
   "source": [
    "# Afficher chaque espece de maniere unique \n",
    "iris_data['species'].unique()"
   ]
  },
  {
   "cell_type": "code",
   "execution_count": 324,
   "id": "a0d234ef-b606-402c-9589-4eccc98a18b8",
   "metadata": {
    "tags": []
   },
   "outputs": [
    {
     "data": {
      "text/plain": [
       "<Axes: xlabel='sepal_length', ylabel='sepal_width'>"
      ]
     },
     "execution_count": 324,
     "metadata": {},
     "output_type": "execute_result"
    },
    {
     "data": {
      "image/png": "[encoded data removed]",
      "text/plain": [
       "<Figure size 640x480 with 1 Axes>"
      ]
     },
     "metadata": {},
     "output_type": "display_data"
    }
   ],
   "source": [
    "# Affichage du plot\n",
    "sns.scatterplot(x='sepal_length', y='sepal_width', data=iris_data, hue='species')"
   ]
  },
  {
   "cell_type": "code",
   "execution_count": 325,
   "id": "baa61747-9210-45f3-8038-ed417081bf78",
   "metadata": {
    "tags": []
   },
   "outputs": [
    {
     "data": {
      "text/plain": [
       "array([0, 1, 2], dtype=int64)"
      ]
     },
     "execution_count": 325,
     "metadata": {},
     "output_type": "execute_result"
    }
   ],
   "source": [
    "Mapping_species = {\n",
    "    'setosa' : 0,\n",
    "    'versicolor' : 1,\n",
    "    'virginica' : 2\n",
    "}\n",
    "\n",
    "iris_data['species'] = iris_data['species'].map(Mapping_species)\n",
    "\n",
    "iris_data['species'].unique()"
   ]
  },
  {
   "cell_type": "code",
   "execution_count": 326,
   "id": "b2c56f9b-be05-4bed-b8a3-2d2c597b6854",
   "metadata": {
    "tags": []
   },
   "outputs": [
    {
     "data": {
      "text/html": [
       "<div>\n",
       "<style scoped>\n",
       "    .dataframe tbody tr th:only-of-type {\n",
       "        vertical-align: middle;\n",
       "    }\n",
       "\n",
       "    .dataframe tbody tr th {\n",
       "        vertical-align: top;\n",
       "    }\n",
       "\n",
       "    .dataframe thead th {\n",
       "        text-align: right;\n",
       "    }\n",
       "</style>\n",
       "<table border=\"1\" class=\"dataframe\">\n",
       "  <thead>\n",
       "    <tr style=\"text-align: right;\">\n",
       "      <th></th>\n",
       "      <th>sepal_length</th>\n",
       "      <th>sepal_width</th>\n",
       "      <th>petal_length</th>\n",
       "      <th>petal_width</th>\n",
       "      <th>species</th>\n",
       "    </tr>\n",
       "  </thead>\n",
       "  <tbody>\n",
       "    <tr>\n",
       "      <th>0</th>\n",
       "      <td>5.1</td>\n",
       "      <td>3.5</td>\n",
       "      <td>1.4</td>\n",
       "      <td>0.2</td>\n",
       "      <td>0</td>\n",
       "    </tr>\n",
       "    <tr>\n",
       "      <th>1</th>\n",
       "      <td>4.9</td>\n",
       "      <td>3.0</td>\n",
       "      <td>1.4</td>\n",
       "      <td>0.2</td>\n",
       "      <td>0</td>\n",
       "    </tr>\n",
       "    <tr>\n",
       "      <th>2</th>\n",
       "      <td>4.7</td>\n",
       "      <td>3.2</td>\n",
       "      <td>1.3</td>\n",
       "      <td>0.2</td>\n",
       "      <td>0</td>\n",
       "    </tr>\n",
       "    <tr>\n",
       "      <th>3</th>\n",
       "      <td>4.6</td>\n",
       "      <td>3.1</td>\n",
       "      <td>1.5</td>\n",
       "      <td>0.2</td>\n",
       "      <td>0</td>\n",
       "    </tr>\n",
       "    <tr>\n",
       "      <th>4</th>\n",
       "      <td>5.0</td>\n",
       "      <td>3.6</td>\n",
       "      <td>1.4</td>\n",
       "      <td>0.2</td>\n",
       "      <td>0</td>\n",
       "    </tr>\n",
       "  </tbody>\n",
       "</table>\n",
       "</div>"
      ],
      "text/plain": [
       "   sepal_length  sepal_width  petal_length  petal_width  species\n",
       "0           5.1          3.5           1.4          0.2        0\n",
       "1           4.9          3.0           1.4          0.2        0\n",
       "2           4.7          3.2           1.3          0.2        0\n",
       "3           4.6          3.1           1.5          0.2        0\n",
       "4           5.0          3.6           1.4          0.2        0"
      ]
     },
     "execution_count": 326,
     "metadata": {},
     "output_type": "execute_result"
    }
   ],
   "source": [
    "iris_data.head()"
   ]
  },
  {
   "cell_type": "code",
   "execution_count": null,
   "id": "d1121ea1-ae4a-4be1-ad10-dc62777c70a0",
   "metadata": {},
   "outputs": [],
   "source": []
  }
 ],
 "metadata": {
  "kernelspec": {
   "display_name": "Python 3 (ipykernel)",
   "language": "python",
   "name": "python3"
  },
  "language_info": {
   "codemirror_mode": {
    "name": "ipython",
    "version": 3
   },
   "file_extension": ".py",
   "mimetype": "text/x-python",
   "name": "python",
   "nbconvert_exporter": "python",
   "pygments_lexer": "ipython3",
   "version": "3.11.5"
  }
 },
 "nbformat": 4,
 "nbformat_minor": 5
}
